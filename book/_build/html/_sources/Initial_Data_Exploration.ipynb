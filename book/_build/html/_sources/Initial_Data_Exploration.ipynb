{
 "cells": [
  {
   "cell_type": "markdown",
   "source": [
    "# Initial Data Exploration \r\n",
    "\r\n",
    "In this section, we profile  \r\n",
    "The purpose of our initial data exploration is to:\r\n",
    "a)\tCheck the validity of the data and perform data cleaning methods if needed.\r\n",
    "b)\tView the statistical details of the data and perform data visualization to improve our understanding of the data \r\n",
    "c)\tInitiate new hypotheses on both the future clustering and evaluation method.\r\n",
    "d)\tValidate assumptions of any clustering methods we intend to use & perform transformations if needed.\r\n",
    "e)\tMeasure clustering & central tendency.\r\n",
    "\r\n",
    "<ol type = \"a\">\r\n",
    "    <li>India</li>\r\n",
    "    <li>Australia</li>\r\n",
    "    <li>South Africa</li>\r\n",
    "    <li>New Zealand</li>\r\n",
    "    <li>Pakistan</li>\r\n",
    "    <li>Srilanka</li>\r\n",
    "    <li>West Indies</li>\r\n",
    "    <li>Bangladesh</li>\r\n",
    "</ol>\r\n",
    "\r\n",
    "If you are viewing this as an HTML page, please use the content toolbar to the right for quick access to different sections.\r\n",
    "\r\n",
    "## Importing required libraries \r\n",
    "\r\n",
    "As it is markdown, you can embed images, HTML, etc into your posts!\r\n",
    "\r\n",
    "![](https://myst-parser.readthedocs.io/en/latest/_static/logo-wide.svg)\r\n",
    "\r\n",
    "You can also $add_{math}$ and\r\n",
    "\r\n",
    "$$\r\n",
    "math^{blocks}\r\n",
    "$$\r\n",
    "\r\n",
    "or\r\n",
    "\r\n",
    "$$\r\n",
    "\\begin{aligned}\r\n",
    "\\mbox{mean} la_{tex} \\\\ \\\\\r\n",
    "math blocks\r\n",
    "\\end{aligned}\r\n",
    "$$\r\n",
    "\r\n",
    "But make sure you \\$Escape \\$your \\$dollar signs \\$you want to keep!\r\n",
    "\r\n",
    "## MyST markdown\r\n",
    "\r\n",
    "MyST markdown works in Jupyter Notebooks as well. For more information about MyST markdown, check\r\n",
    "out [the MyST guide in Jupyter Book](https://jupyterbook.org/content/myst.html),\r\n",
    "or see [the MyST markdown documentation](https://myst-parser.readthedocs.io/en/latest/).\r\n",
    "\r\n",
    "## Code blocks and outputs\r\n",
    "\r\n",
    "Jupyter Book will also embed your code blocks and output in your book.\r\n",
    "For example, here's some sample Matplotlib code:"
   ],
   "metadata": {}
  },
  {
   "cell_type": "code",
   "execution_count": 1,
   "source": [
    "from matplotlib import rcParams, cycler\r\n",
    "import matplotlib.pyplot as plt\r\n",
    "import numpy as np\r\n",
    "plt.ion()"
   ],
   "outputs": [],
   "metadata": {}
  },
  {
   "cell_type": "code",
   "execution_count": null,
   "source": [
    "# Fixing random state for reproducibility\r\n",
    "np.random.seed(19680801)\r\n",
    "\r\n",
    "N = 10\r\n",
    "data = [np.logspace(0, 1, 100) + np.random.randn(100) + ii for ii in range(N)]\r\n",
    "data = np.array(data).T\r\n",
    "cmap = plt.cm.coolwarm\r\n",
    "rcParams['axes.prop_cycle'] = cycler(color=cmap(np.linspace(0, 1, N)))\r\n",
    "\r\n",
    "\r\n",
    "from matplotlib.lines import Line2D\r\n",
    "custom_lines = [Line2D([0], [0], color=cmap(0.), lw=4),\r\n",
    "                Line2D([0], [0], color=cmap(.5), lw=4),\r\n",
    "                Line2D([0], [0], color=cmap(1.), lw=4)]\r\n",
    "\r\n",
    "fig, ax = plt.subplots(figsize=(10, 5))\r\n",
    "lines = ax.plot(data)\r\n",
    "ax.legend(custom_lines, ['Cold', 'Medium', 'Hot']);"
   ],
   "outputs": [],
   "metadata": {}
  },
  {
   "cell_type": "markdown",
   "source": [
    "There is a lot more that you can do with outputs (such as including interactive outputs)\n",
    "with your book. For more information about this, see [the Jupyter Book documentation](https://jupyterbook.org)"
   ],
   "metadata": {}
  }
 ],
 "metadata": {
  "kernelspec": {
   "name": "python3",
   "display_name": "Python 3.7.7 64-bit ('py37': conda)"
  },
  "language_info": {
   "codemirror_mode": {
    "name": "ipython",
    "version": 3
   },
   "file_extension": ".py",
   "mimetype": "text/x-python",
   "name": "python",
   "nbconvert_exporter": "python",
   "pygments_lexer": "ipython3",
   "version": "3.7.7"
  },
  "widgets": {
   "application/vnd.jupyter.widget-state+json": {
    "state": {},
    "version_major": 2,
    "version_minor": 0
   }
  },
  "interpreter": {
   "hash": "8b50fa937169f37b74d45a07f3eeb6e1c015845828f57e9959dd4a9e933aa70c"
  }
 },
 "nbformat": 4,
 "nbformat_minor": 4
}