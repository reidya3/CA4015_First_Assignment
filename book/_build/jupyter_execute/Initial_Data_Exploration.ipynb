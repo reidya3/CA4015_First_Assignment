{
 "cells": [
  {
   "cell_type": "markdown",
   "metadata": {},
   "source": [
    "# Initial Data Exploration  \r\n",
    "The purpose of our initial data exploration is to:\r\n",
    "<ol type = \"a\">\r\n",
    "    <li>Check the validity of the data and perform data cleaning methods if needed.</li>\r\n",
    "    <li>View the statistical details of the data and perform data visualization to improve our understanding of the data</li>\r\n",
    "    <li>Initiate new hypotheses on both the future clustering and evaluation method.</li>\r\n",
    "    <li>Validate assumptions of any clustering methods we intend to use & perform transformations if needed.</li>\r\n",
    "    <li>Measure clustering & central tendency.</li>\r\n",
    "</ol>\r\n",
    "\r\n",
    "If you are viewing this as an HTML page, please use the content toolbar to the right for quick access to different sections.\r\n",
    "\r\n",
    "## Importing required libraries \r\n",
    "Data processing"
   ]
  },
  {
   "cell_type": "code",
   "execution_count": 1,
   "metadata": {},
   "outputs": [],
   "source": [
    "import pandas as pd"
   ]
  },
  {
   "cell_type": "markdown",
   "metadata": {},
   "source": [
    "Data Visualization "
   ]
  },
  {
   "cell_type": "code",
   "execution_count": 2,
   "metadata": {},
   "outputs": [],
   "source": [
    "import matplotlib.pyplot as plt"
   ]
  },
  {
   "cell_type": "markdown",
   "metadata": {},
   "source": [
    "For the purposes of this exploration, we load in 12 different csv files. \r\n",
    "|    Type     | File Name |    Description      |\r\n",
    "| :------------ | -------------: | :------------ |\r\n",
    "|        Choices     |        choices_95.csv, choices_100.csv, choices_150.csv     | These CSV's contains all of the choices made by test-takers during the examined studies. **Note**, the 10 studies described in the Introduction section are grouped by the number of trails. The integer suffix of the file name indicates the number of trails performed. For example, the 1<sup>st</sup> row and 2<sup>nd</sup> column instance of the choices_95.csv file describes a participant's 2<sup>nd</sup> card choice in a 95 trail study.   |    \r\n",
    "|     Wins     |      wi_95.csv, wi_100.csv, wi_150.csv      |     These datasets describe the rewards received by participants in 95, 100 and 150 trail investigations, as indicated by the suffix. For example, the  3<sup>rd</sup> row and 5<sup>th</sup> column entry of the wi_100.csv file details the monetary gain received by a participant on their 5<sup>th</sup> choice in 100 trail study.     | \r\n",
    "|        Losses    |        lo_95.csv, lo_100.csv, lo_150.csv     |   These files contain the loses received by participants in 95, 100 and 150 trail investigations, as indicated by the suffix. For example, the  2<sup>nd</sup> row and 8<sup>th</sup> column entry of the lo_150.csv file details the monetary penalty received by a participant on their 8<sup>th</sup> choice in 150 trail study.      |        \r\n",
    "|     Index     |      index_95.csv, index_100.csv, index_150.csv    | index_95.csv, index_100.csv, and index_150.csv map the first author of the study that reports the data to the corresponding subject. |      "
   ]
  },
  {
   "cell_type": "code",
   "execution_count": 3,
   "metadata": {},
   "outputs": [],
   "source": [
    "choices_95 = pd.read_csv('data/choice_95.csv')\r\n",
    "choice_100 = pd.read_csv('data/choice_100.csv')\r\n",
    "choice_150 = pd.read_csv('data/choice_150.csv')"
   ]
  },
  {
   "cell_type": "code",
   "execution_count": 4,
   "metadata": {},
   "outputs": [],
   "source": [
    "win_95 = pd.read_csv('data/wi_95.csv')\r\n",
    "win_100 = pd.read_csv('data/wi_100.csv')\r\n",
    "win_150 = pd.read_csv('data/wi_150.csv')"
   ]
  },
  {
   "cell_type": "code",
   "execution_count": 5,
   "metadata": {},
   "outputs": [],
   "source": [
    "loss_95 = pd.read_csv('data/lo_95.csv')\r\n",
    "loss_100 = pd.read_csv('data/lo_100.csv')\r\n",
    "loss_150 = pd.read_csv('data/lo_150.csv')"
   ]
  },
  {
   "cell_type": "code",
   "execution_count": 6,
   "metadata": {},
   "outputs": [],
   "source": [
    "index_95 = pd.read_csv('data/lo_95.csv')\r\n",
    "index_100 = pd.read_csv('data/lo_100.csv')\r\n",
    "index_150 = pd.read_csv('data/lo_150.csv')"
   ]
  },
  {
   "cell_type": "code",
   "execution_count": null,
   "metadata": {},
   "outputs": [],
   "source": []
  },
  {
   "cell_type": "markdown",
   "metadata": {},
   "source": [
    "## Data Cleaning  \r\n",
    "The purpose of our initial data exploration is to:\r\n",
    "<ol type = \"a\">\r\n",
    "    <li>Check the validity of the data and perform data cleaning methods if needed.</li>\r\n",
    "    <li>View the statistical details of the data and perform data visualization to improve our understanding of the data</li>\r\n",
    "    <li>Initiate new hypotheses on both the future clustering and evaluation method.</li>\r\n",
    "    <li>Validate assumptions of any clustering methods we intend to use & perform transformations if needed.</li>\r\n",
    "    <li>Measure clustering & central tendency.</li>\r\n",
    "</ol>\r\n",
    "\r\n",
    "If you are viewing this as an HTML page, please use the content toolbar to the right for quick access to different sections.\r\n",
    "\r\n",
    "## Importing required libraries \r\n",
    "### Data processing"
   ]
  },
  {
   "cell_type": "code",
   "execution_count": 7,
   "metadata": {},
   "outputs": [
    {
     "ename": "NameError",
     "evalue": "name 'np' is not defined",
     "output_type": "error",
     "traceback": [
      "\u001b[1;31m---------------------------------------------------------------------------\u001b[0m",
      "\u001b[1;31mNameError\u001b[0m                                 Traceback (most recent call last)",
      "\u001b[1;32m~\\AppData\\Local\\Temp/ipykernel_27088/812981093.py\u001b[0m in \u001b[0;36m<module>\u001b[1;34m\u001b[0m\n\u001b[0;32m      1\u001b[0m \u001b[1;31m# Fixing random state for reproducibility\u001b[0m\u001b[1;33m\u001b[0m\u001b[1;33m\u001b[0m\u001b[1;33m\u001b[0m\u001b[0m\n\u001b[1;32m----> 2\u001b[1;33m \u001b[0mnp\u001b[0m\u001b[1;33m.\u001b[0m\u001b[0mrandom\u001b[0m\u001b[1;33m.\u001b[0m\u001b[0mseed\u001b[0m\u001b[1;33m(\u001b[0m\u001b[1;36m19680801\u001b[0m\u001b[1;33m)\u001b[0m\u001b[1;33m\u001b[0m\u001b[1;33m\u001b[0m\u001b[0m\n\u001b[0m\u001b[0;32m      3\u001b[0m \u001b[1;33m\u001b[0m\u001b[0m\n\u001b[0;32m      4\u001b[0m \u001b[0mN\u001b[0m \u001b[1;33m=\u001b[0m \u001b[1;36m10\u001b[0m\u001b[1;33m\u001b[0m\u001b[1;33m\u001b[0m\u001b[0m\n\u001b[0;32m      5\u001b[0m \u001b[0mdata\u001b[0m \u001b[1;33m=\u001b[0m \u001b[1;33m[\u001b[0m\u001b[0mnp\u001b[0m\u001b[1;33m.\u001b[0m\u001b[0mlogspace\u001b[0m\u001b[1;33m(\u001b[0m\u001b[1;36m0\u001b[0m\u001b[1;33m,\u001b[0m \u001b[1;36m1\u001b[0m\u001b[1;33m,\u001b[0m \u001b[1;36m100\u001b[0m\u001b[1;33m)\u001b[0m \u001b[1;33m+\u001b[0m \u001b[0mnp\u001b[0m\u001b[1;33m.\u001b[0m\u001b[0mrandom\u001b[0m\u001b[1;33m.\u001b[0m\u001b[0mrandn\u001b[0m\u001b[1;33m(\u001b[0m\u001b[1;36m100\u001b[0m\u001b[1;33m)\u001b[0m \u001b[1;33m+\u001b[0m \u001b[0mii\u001b[0m \u001b[1;32mfor\u001b[0m \u001b[0mii\u001b[0m \u001b[1;32min\u001b[0m \u001b[0mrange\u001b[0m\u001b[1;33m(\u001b[0m\u001b[0mN\u001b[0m\u001b[1;33m)\u001b[0m\u001b[1;33m]\u001b[0m\u001b[1;33m\u001b[0m\u001b[1;33m\u001b[0m\u001b[0m\n",
      "\u001b[1;31mNameError\u001b[0m: name 'np' is not defined"
     ]
    }
   ],
   "source": [
    "# Fixing random state for reproducibility\r\n",
    "np.random.seed(19680801)\r\n",
    "\r\n",
    "N = 10\r\n",
    "data = [np.logspace(0, 1, 100) + np.random.randn(100) + ii for ii in range(N)]\r\n",
    "data = np.array(data).T\r\n",
    "cmap = plt.cm.coolwarm\r\n",
    "rcParams['axes.prop_cycle'] = cycler(color=cmap(np.linspace(0, 1, N)))\r\n",
    "\r\n",
    "\r\n",
    "from matplotlib.lines import Line2D\r\n",
    "custom_lines = [Line2D([0], [0], color=cmap(0.), lw=4),\r\n",
    "                Line2D([0], [0], color=cmap(.5), lw=4),\r\n",
    "                Line2D([0], [0], color=cmap(1.), lw=4)]\r\n",
    "\r\n",
    "fig, ax = plt.subplots(figsize=(10, 5))\r\n",
    "lines = ax.plot(data)\r\n",
    "ax.legend(custom_lines, ['Cold', 'Medium', 'Hot']);"
   ]
  },
  {
   "cell_type": "markdown",
   "metadata": {},
   "source": [
    "There is a lot more that you can do with outputs (such as including interactive outputs)\n",
    "with your book. For more information about this, see [the Jupyter Book documentation](https://jupyterbook.org)"
   ]
  }
 ],
 "metadata": {
  "interpreter": {
   "hash": "8b50fa937169f37b74d45a07f3eeb6e1c015845828f57e9959dd4a9e933aa70c"
  },
  "kernelspec": {
   "display_name": "Python 3.7.7 64-bit ('py37': conda)",
   "name": "python3"
  },
  "language_info": {
   "codemirror_mode": {
    "name": "ipython",
    "version": 3
   },
   "file_extension": ".py",
   "mimetype": "text/x-python",
   "name": "python",
   "nbconvert_exporter": "python",
   "pygments_lexer": "ipython3",
   "version": "3.8.3"
  },
  "widgets": {
   "application/vnd.jupyter.widget-state+json": {
    "state": {},
    "version_major": 2,
    "version_minor": 0
   }
  }
 },
 "nbformat": 4,
 "nbformat_minor": 4
}