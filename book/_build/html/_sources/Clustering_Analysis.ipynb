{
 "cells": [
  {
   "cell_type": "markdown",
   "source": [
    "# Clustering Analysis\r\n",
    "\r\n",
    "You can also create content with Jupyter Notebooks. This means that you can include\r\n",
    "code blocks and their outputs in your book.\r\n",
    "\r\n",
    "## Markdown + notebooks\r\n",
    "\r\n",
    "As it is markdown, you can embed images, HTML, etc into your posts!\r\n",
    "\r\n",
    "![](https://myst-parser.readthedocs.io/en/latest/_static/logo-wide.svg)\r\n",
    "\r\n",
    "You can also $add_{math}$ and\r\n",
    "\r\n",
    "$$\r\n",
    "math^{blocks}\r\n",
    "$$\r\n",
    "\r\n",
    "or\r\n",
    "\r\n",
    "$$\r\n",
    "\\begin{aligned}\r\n",
    "\\mbox{mean} la_{tex} \\\\ \\\\\r\n",
    "math blocks\r\n",
    "\\end{aligned}\r\n",
    "$$\r\n",
    "\r\n",
    "But make sure you \\$Escape \\$your \\$dollar signs \\$you want to keep!\r\n",
    "\r\n",
    "## MyST markdown\r\n",
    "\r\n",
    "MyST markdown works in Jupyter Notebooks as well. For more information about MyST markdown, check\r\n",
    "out [the MyST guide in Jupyter Book](https://jupyterbook.org/content/myst.html),\r\n",
    "or see [the MyST markdown documentation](https://myst-parser.readthedocs.io/en/latest/).\r\n",
    "\r\n",
    "## Code blocks and outputs\r\n",
    "\r\n",
    "Jupyter Book will also embed your code blocks and output in your book.\r\n",
    "For example, here's some sample Matplotlib code:"
   ],
   "metadata": {}
  },
  {
   "cell_type": "code",
   "execution_count": null,
   "source": [
    "from matplotlib import rcParams, cycler\r\n",
    "import matplotlib.pyplot as plt\r\n",
    "import numpy as np\r\n",
    "plt.ion()"
   ],
   "outputs": [],
   "metadata": {}
  },
  {
   "cell_type": "code",
   "execution_count": null,
   "source": [
    "# Fixing random state for reproducibility\r\n",
    "np.random.seed(19680801)\r\n",
    "\r\n",
    "N = 10\r\n",
    "data = [np.logspace(0, 1, 100) + np.random.randn(100) + ii for ii in range(N)]\r\n",
    "data = np.array(data).T\r\n",
    "cmap = plt.cm.coolwarm\r\n",
    "rcParams['axes.prop_cycle'] = cycler(color=cmap(np.linspace(0, 1, N)))\r\n",
    "\r\n",
    "\r\n",
    "from matplotlib.lines import Line2D\r\n",
    "custom_lines = [Line2D([0], [0], color=cmap(0.), lw=4),\r\n",
    "                Line2D([0], [0], color=cmap(.5), lw=4),\r\n",
    "                Line2D([0], [0], color=cmap(1.), lw=4)]\r\n",
    "\r\n",
    "fig, ax = plt.subplots(figsize=(10, 5))\r\n",
    "lines = ax.plot(data)\r\n",
    "ax.legend(custom_lines, ['Cold', 'Medium', 'Hot']);"
   ],
   "outputs": [],
   "metadata": {}
  },
  {
   "cell_type": "markdown",
   "source": [
    "There is a lot more that you can do with outputs (such as including interactive outputs)\n",
    "with your book. For more information about this, see [the Jupyter Book documentation](https://jupyterbook.org)"
   ],
   "metadata": {}
  }
 ],
 "metadata": {
  "kernelspec": {
   "display_name": "Python 3",
   "language": "python",
   "name": "python3"
  },
  "language_info": {
   "codemirror_mode": {
    "name": "ipython",
    "version": 3
   },
   "file_extension": ".py",
   "mimetype": "text/x-python",
   "name": "python",
   "nbconvert_exporter": "python",
   "pygments_lexer": "ipython3",
   "version": "3.8.0"
  },
  "widgets": {
   "application/vnd.jupyter.widget-state+json": {
    "state": {},
    "version_major": 2,
    "version_minor": 0
   }
  }
 },
 "nbformat": 4,
 "nbformat_minor": 4
}