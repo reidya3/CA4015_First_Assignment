{
 "cells": [
  {
   "cell_type": "markdown",
   "source": [
    "# Federated K-Means\r\n",
    "In this section, we attempt to form a federated k-means algorithm to preserve the privacy of the individual labs. \r\n",
    "\r\n",
    "**Federated learning:**  First introduced by Google, federated learning trains an algorithm across multiple decentralized servers/devices with local data samples. There is **no** data sharing between servers. This is in contrast to the standard way of training a machine learning algorithm where all of the training dataset is uploaded to one server. This technique adrress critical issues relating to data privacy and security \r\n",
    "\r\n",
    "## Diagram of the federated k-means algorithm"
   ],
   "metadata": {}
  },
  {
   "cell_type": "code",
   "execution_count": 3,
   "source": [
    "from sklearn.cluster import KMeans"
   ],
   "outputs": [],
   "metadata": {}
  },
  {
   "cell_type": "markdown",
   "source": [],
   "metadata": {}
  },
  {
   "cell_type": "code",
   "execution_count": 2,
   "source": [
    "class child_kmeans(KMeans):\r\n",
    "        def __init__(\r\n",
    "            self,\r\n",
    "            n_clusters,\r\n",
    "            init_centroids='random',\r\n",
    "            max_iter=100,\r\n",
    "            tol=0.0001,\r\n",
    "            distance_metric='euclidean',\r\n",
    "            seed=None,\r\n",
    "            reassign_min=None,\r\n",
    "            reassign_after=None,\r\n",
    "            verbose=False,\r\n",
    "            batch_size=None,\r\n",
    "            sample_fraction=1.0,\r\n",
    "            epochs_per_round=1,\r\n",
    "            learning_rate=None,\r\n",
    "            max_no_change=None,\r\n",
    "            adaptive_lr=None,\r\n",
    "            momentum=None,\r\n",
    "            epoch_lr=1,\r\n",
    "    ):\r\n",
    "        super().__init__(\r\n",
    "            n_clusters=n_clusters,\r\n",
    "            init_centroids=init_centroids,\r\n",
    "            max_iter=max_iter,\r\n",
    "            tol=tol,\r\n",
    "            distance_metric=distance_metric,\r\n",
    "            seed=seed,\r\n",
    "            reassign_min=reassign_min,\r\n",
    "            reassign_after=reassign_after,\r\n",
    "            verbose=verbose\r\n",
    "        )\r\n",
    "    \r\n",
    "    pass"
   ],
   "outputs": [],
   "metadata": {}
  },
  {
   "cell_type": "code",
   "execution_count": 1,
   "source": [
    "class parent_kmeans():\r\n",
    "    pass"
   ],
   "outputs": [
    {
     "output_type": "error",
     "ename": "SyntaxError",
     "evalue": "unexpected EOF while parsing (Temp/ipykernel_36092/3935500515.py, line 1)",
     "traceback": [
      "\u001b[1;36m  File \u001b[1;32m\"C:\\Users\\tonyr\\AppData\\Local\\Temp/ipykernel_36092/3935500515.py\"\u001b[1;36m, line \u001b[1;32m1\u001b[0m\n\u001b[1;33m    class server_kmeans():\u001b[0m\n\u001b[1;37m                          ^\u001b[0m\n\u001b[1;31mSyntaxError\u001b[0m\u001b[1;31m:\u001b[0m unexpected EOF while parsing\n"
     ]
    }
   ],
   "metadata": {}
  },
  {
   "cell_type": "markdown",
   "source": [
    "## Evaluation "
   ],
   "metadata": {}
  },
  {
   "cell_type": "markdown",
   "source": [
    "Before evaluating the results, an important consideration should be noted. As with any K-Means algorithm, results may vary with each run of the algorithm as the algorithm's performance is heavily dependent on the initial clusters chosen. Therefore, the federated-k-means algorithms is run 10 times and  the corresponding evaluation metrics are averaged 10 times. The clusters formed in the previous section as the ground truth. Like-kmeans, we must supply the vector of federated k-me"
   ],
   "metadata": {}
  },
  {
   "cell_type": "code",
   "execution_count": null,
   "source": [],
   "outputs": [],
   "metadata": {}
  }
 ],
 "metadata": {
  "kernelspec": {
   "name": "python3",
   "display_name": "Python 3.8.3 64-bit ('venv': venv)"
  },
  "language_info": {
   "codemirror_mode": {
    "name": "ipython",
    "version": 3
   },
   "file_extension": ".py",
   "mimetype": "text/x-python",
   "name": "python",
   "nbconvert_exporter": "python",
   "pygments_lexer": "ipython3",
   "version": "3.8.3"
  },
  "widgets": {
   "application/vnd.jupyter.widget-state+json": {
    "state": {},
    "version_major": 2,
    "version_minor": 0
   }
  },
  "interpreter": {
   "hash": "00a0075937c46e4fa2684306921a6efe0826486343b024167c91da4e96a7c8cc"
  }
 },
 "nbformat": 4,
 "nbformat_minor": 4
}