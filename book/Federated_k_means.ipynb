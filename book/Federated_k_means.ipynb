{
 "cells": [
  {
   "cell_type": "markdown",
   "source": [
    "# Federated K-Means\r\n",
    "In this section, we attempt to form a federated k-means algorithm to preserve the privacy of the individual labs. \r\n",
    "\r\n",
    "**Federated learning:**  First introduced by Google, federated learning trains an algorithm across multiple decentralized servers/devices with local data samples. There is **no** data sharing between servers. This is in contrast to the standard way of training a machine learning algorithm where all of the training dataset is uploaded to one server. This technique adrress critical issues relating to data privacy and security \r\n",
    "\r\n",
    "## Diagram of the federated k-means(FKM) algorithm"
   ],
   "metadata": {}
  },
  {
   "cell_type": "code",
   "execution_count": 1,
   "source": [
    "from sklearn.cluster import KMeans\r\n",
    "import pandas as pd\r\n",
    "import numpy as np"
   ],
   "outputs": [],
   "metadata": {}
  },
  {
   "cell_type": "code",
   "execution_count": 2,
   "source": [
    "dim_reduced_2d = pd.read_csv('data/dim_reduced_2d.tsv', sep=\"\\t\")\r\n",
    "dim_reduced_3d = pd.read_csv('data/dim_reduced_3d.tsv', sep=\"\\t\")\r\n"
   ],
   "outputs": [],
   "metadata": {}
  },
  {
   "cell_type": "markdown",
   "source": [
    "Here, we are just creating variables to hold the data from each study. "
   ],
   "metadata": {}
  },
  {
   "cell_type": "code",
   "execution_count": 3,
   "source": [
    "studies_list = ['Horstmann', 'Kjome', 'Maia', 'SteingroverInPrep', 'Premkumar','Wood', 'Worthy', 'Ahn']\r\n",
    "for study in studies_list:\r\n",
    "    globals()[f'{study}_study'] = dim_reduced_2d[dim_reduced_2d['study'] == study]"
   ],
   "outputs": [],
   "metadata": {}
  },
  {
   "cell_type": "markdown",
   "source": [
    "### Child K-means class"
   ],
   "metadata": {}
  },
  {
   "cell_type": "code",
   "execution_count": 4,
   "source": [
    "class child_kmeans(KMeans):\r\n",
    "    \r\n",
    "    def __init__(self,\r\n",
    "                df,\r\n",
    "                n_clusters):\r\n",
    "        super().__init__(n_clusters=n_clusters)\r\n",
    "        self.df = df\r\n",
    "        self.update_df, self.base_df = np.split(df, [int(.2*len(df))])\r\n",
    "\r\n",
    "    def update(self):\r\n",
    "        pass\r\n",
    "        \r\n",
    "\r\n",
    "    def run(self):\r\n",
    "        base_run = super().fit(self.base_df) \r\n",
    "        return self.cluster_centers_.tolist(), self.df.shape[0]    \r\n",
    "   "
   ],
   "outputs": [],
   "metadata": {}
  },
  {
   "cell_type": "markdown",
   "source": [
    "### Parent K-means class"
   ],
   "metadata": {}
  },
  {
   "cell_type": "code",
   "execution_count": 8,
   "source": [
    "class parent_kmeans():\r\n",
    "    def __init__(self) -> None:\r\n",
    "        self.n_participants = []\r\n",
    "        self.cluster_centres = []\r\n",
    "        self.federated_cluster_centres = None\r\n",
    "\r\n",
    "    def add(self, cluster_centre, n_participant):\r\n",
    "        self.cluster_centres.append(cluster_centre)\r\n",
    "        self.n_participants.append(n_participant)\r\n",
    "\r\n",
    "    def weighted_average(self):\r\n",
    "        child_weighted_avg = np.average(self.cluster_centres, weights=self.n_participants, axis=0)        \r\n",
    "        if self.federated_cluster_centres is None:\r\n",
    "            return child_weighted_avg\r\n",
    "        return np.mean([self.federated_cluster_centres, child_weighted_avg], axis=0)\r\n",
    "\r\n",
    "    def update_cluster_centre(self):\r\n",
    "        self.federated_cluster_centres = self.weighted_average()\r\n",
    "        self.n_participants = []\r\n",
    "        self.cluster_centres = []\r\n",
    "    \r\n",
    "    def get_new_centres(self):\r\n",
    "        return self.federated_cluster_centres\r\n"
   ],
   "outputs": [],
   "metadata": {}
  },
  {
   "cell_type": "code",
   "execution_count": 217,
   "source": [
    "parent_server = parent_kmeans()\r\n",
    "\r\n",
    "for i in range(1,50):\r\n",
    "    for study in studies_list:\r\n",
    "        # First retrieving the cluster centres and number of particpants  from a study\r\n",
    "        study_cluster_centres, n_particpants = child_kmeans(globals()[f'{study}_study'].iloc[:,2:], n_clusters=3).run()\r\n",
    "        # Adding that information to the parent server \r\n",
    "        parent_server.add(cluster_centre=study_cluster_centres, n_participant=n_particpants)\r\n",
    "\r\n",
    "    # Calculating the new federated cluster centres\r\n",
    "    parent_server.update_cluster_centre()\r\n",
    "    \r\n",
    "# Retreving the cluster centres from Federated K-means and normal K-means    \r\n",
    "fkm_cluster_centres = parent_server.get_new_centres()\r\n",
    "km_clusters_centres = KMeans(n_clusters=3,random_state=42).fit(dim_reduced_2d.iloc[:,2:]).cluster_centers_\r\n"
   ],
   "outputs": [],
   "metadata": {}
  },
  {
   "cell_type": "code",
   "execution_count": null,
   "source": [],
   "outputs": [],
   "metadata": {}
  },
  {
   "cell_type": "code",
   "execution_count": null,
   "source": [
    "arent server \r\n",
    "        parent_server.add(cluster_centre=study_cluster_centres, n_participant=n_particpants)\r\n",
    "\r\n",
    "    # Calculating the new federated cluster centres\r\n",
    "    parent_server.update_cluster_centre()\r\n",
    "    \r\n",
    "# Retreving the cluster centres from Federated K-means and normal K-means    \r\n",
    "fkm_cluster_centres = parent_server.get_new_centres()\r\n",
    "km_clusters_centres = KMeans(n_clusters=3,random_state=42).fit(dim_reduced_2d.iloc[:,2:]).cluster_centers_\r\n"
   ],
   "outputs": [],
   "metadata": {}
  },
  {
   "cell_type": "markdown",
   "source": [
    "## Evaluation "
   ],
   "metadata": {}
  },
  {
   "cell_type": "markdown",
   "source": [
    "Before evaluating the results, an important consideration should be noted. As with any K-Means algorithm, results may vary with each run of the algorithm as the algorithm's performance is heavily dependent on the initial clusters chosen. Therefore, the federated-k-means algorithms is run 10 times and  the corresponding evaluation metrics are averaged 10 times. The clusters formed in the previous section as the ground truth. Like-kmeans, we must supply the vector of federated k-me"
   ],
   "metadata": {}
  },
  {
   "cell_type": "code",
   "execution_count": null,
   "source": [
    "\r\n",
    "def calulate_SSE(df, fkm_cluster_centres, km_clusters_centres):\r\n",
    "    df[\"fkm_SSE\"] = None\r\n",
    "    df[\"km_SSE\"] = None\r\n",
    "    for index, subject in df.iterrows():\r\n",
    "        subject_dim = subject[[\"component_1\",\"component_2\"]]\r\n",
    "        df[\"fkm_SSE\"].loc[index] = min([(np.sum(np.square(subject_dim - cluster))) for cluster in fkm_cluster_centres])\r\n",
    "        df[\"km_SSE\"].loc[index] =  min([np.sum(np.square(subject_dim - cluster)) for cluster in km_clusters_centres])\r\n",
    "    return df"
   ],
   "outputs": [],
   "metadata": {}
  },
  {
   "cell_type": "code",
   "execution_count": 7,
   "source": [
    "\r\n",
    "\r\n",
    "\r\n",
    "\r\n",
    "np.square(subject_cord - cluster)"
   ],
   "outputs": [
    {
     "output_type": "error",
     "ename": "NameError",
     "evalue": "name 'subject_cord' is not defined",
     "traceback": [
      "\u001b[1;31m---------------------------------------------------------------------------\u001b[0m",
      "\u001b[1;31mNameError\u001b[0m                                 Traceback (most recent call last)",
      "\u001b[1;32m~\\AppData\\Local\\Temp/ipykernel_42224/2684061098.py\u001b[0m in \u001b[0;36m<module>\u001b[1;34m\u001b[0m\n\u001b[1;32m----> 1\u001b[1;33m \u001b[0mnp\u001b[0m\u001b[1;33m.\u001b[0m\u001b[0msquare\u001b[0m\u001b[1;33m(\u001b[0m\u001b[0msubject_cord\u001b[0m \u001b[1;33m-\u001b[0m \u001b[0mcluster\u001b[0m\u001b[1;33m)\u001b[0m\u001b[1;33m\u001b[0m\u001b[1;33m\u001b[0m\u001b[0m\n\u001b[0m",
      "\u001b[1;31mNameError\u001b[0m: name 'subject_cord' is not defined"
     ]
    }
   ],
   "metadata": {}
  },
  {
   "cell_type": "code",
   "execution_count": null,
   "source": [
    "subject_cord"
   ],
   "outputs": [
    {
     "output_type": "execute_result",
     "data": {
      "text/plain": [
       "component_1   -3.156512\n",
       "component_2   -2.452422\n",
       "Name: 628, dtype: object"
      ]
     },
     "metadata": {},
     "execution_count": 214
    }
   ],
   "metadata": {}
  },
  {
   "cell_type": "code",
   "execution_count": null,
   "source": [
    "cluster"
   ],
   "outputs": [
    {
     "output_type": "execute_result",
     "data": {
      "text/plain": [
       "array([-1.08377959, -1.20275671])"
      ]
     },
     "metadata": {},
     "execution_count": 215
    }
   ],
   "metadata": {}
  },
  {
   "cell_type": "code",
   "execution_count": null,
   "source": [],
   "outputs": [],
   "metadata": {}
  }
 ],
 "metadata": {
  "kernelspec": {
   "name": "python3",
   "display_name": "Python 3.8.3 64-bit ('venv': venv)"
  },
  "language_info": {
   "codemirror_mode": {
    "name": "ipython",
    "version": 3
   },
   "file_extension": ".py",
   "mimetype": "text/x-python",
   "name": "python",
   "nbconvert_exporter": "python",
   "pygments_lexer": "ipython3",
   "version": "3.8.3"
  },
  "widgets": {
   "application/vnd.jupyter.widget-state+json": {
    "state": {},
    "version_major": 2,
    "version_minor": 0
   }
  },
  "interpreter": {
   "hash": "00a0075937c46e4fa2684306921a6efe0826486343b024167c91da4e96a7c8cc"
  }
 },
 "nbformat": 4,
 "nbformat_minor": 4
}