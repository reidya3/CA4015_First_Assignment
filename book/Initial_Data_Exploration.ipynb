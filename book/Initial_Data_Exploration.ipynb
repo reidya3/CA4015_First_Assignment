{
 "cells": [
  {
   "cell_type": "markdown",
   "source": [
    "# Initial Data Exploration  \r\n",
    "The purpose of our initial data exploration is to:\r\n",
    "<ol type = \"a\">\r\n",
    "    <li>Check the validity of the data and perform data cleaning methods if needed.</li>\r\n",
    "    <li>View the statistical details of the data</li>\r\n",
    "    <li>Add additional data from the {cite:t}`ahn2014decision` study as we are interested in clustering unhealthy individuals</li>\r\n",
    "    <li>Perform data visualization to improve our understanding of the data</li>\r\n",
    "    <li>Feature Engineer</li>\r\n",
    "    <li>Perform transformations (standardization, PCA)</li>\r\n",
    "</ol>\r\n",
    "\r\n",
    "If you are viewing this as an HTML page, please use the content toolbar to the right for quick access to different sections.\r\n",
    "\r\n",
    "## Importing required libraries \r\n",
    "Data processing"
   ],
   "metadata": {}
  },
  {
   "cell_type": "code",
   "execution_count": 3,
   "source": [
    "import pandas as pd\r\n",
    "from sklearn.preprocessing import StandardScaler\r\n",
    "from sklearn.decomposition import PCA\r\n",
    "import numpy as np"
   ],
   "outputs": [],
   "metadata": {}
  },
  {
   "cell_type": "markdown",
   "source": [
    "Data Visualization "
   ],
   "metadata": {}
  },
  {
   "cell_type": "code",
   "execution_count": 4,
   "source": [
    "import matplotlib.pyplot as plt\r\n",
    "import seaborn as sns"
   ],
   "outputs": [],
   "metadata": {}
  },
  {
   "cell_type": "markdown",
   "source": [
    "For the purposes of this exploration, we load in 12 different csv files. \r\n",
    "|    Type     | File Name |    Description      |\r\n",
    "| :------------ | -------------: | :------------ |\r\n",
    "|        Choices     |        choices_95.csv, choices_100.csv, choices_150.csv     | These CSV's contains all of the choices made by test-takers during the examined studies. **Note**, the 10 studies described in the Introduction section are grouped by the number of trails. The integer suffix of the file name indicates the number of trails performed. For example, the 1<sup>st</sup> row and 2<sup>nd</sup> column instance of the choices_95.csv file describes a participant's 2<sup>nd</sup> card choice in a 95 trail study.   |    \r\n",
    "|     Wins     |      wi_95.csv, wi_100.csv, wi_150.csv      |     These datasets describe the wins received by participants in 95, 100 and 150 trail investigations, as indicated by the suffix. For example, the  3<sup>rd</sup> row and 5<sup>th</sup> column entry of the wi_100.csv file details the monetary gain received by a participant on their 5<sup>th</sup> choice in 100 trail study.     | \r\n",
    "|        Losses    |        lo_95.csv, lo_100.csv, lo_150.csv     |   These files contain the loses received by participants in 95, 100 and 150 trail investigations, as indicated by the suffix. For example, the  2<sup>nd</sup> row and 8<sup>th</sup> column entry of the lo_150.csv file details the monetary penalty received by a participant on their 8<sup>th</sup> choice in 150 trail study.      |        \r\n",
    "|     Index     |      index_95.csv, index_100.csv, index_150.csv    | index_95.csv, index_100.csv, and index_150.csv map the first author of the study that reports the data to the corresponding subject. |      "
   ],
   "metadata": {}
  },
  {
   "cell_type": "code",
   "execution_count": 5,
   "source": [
    "choice_95 = pd.read_csv('data/choice_95.csv')\r\n",
    "choice_100 = pd.read_csv('data/choice_100.csv')\r\n",
    "choice_150 = pd.read_csv('data/choice_150.csv')"
   ],
   "outputs": [],
   "metadata": {}
  },
  {
   "cell_type": "code",
   "execution_count": 6,
   "source": [
    "win_95 = pd.read_csv('data/wi_95.csv')\r\n",
    "win_100 = pd.read_csv('data/wi_100.csv')\r\n",
    "win_150 = pd.read_csv('data/wi_150.csv')"
   ],
   "outputs": [],
   "metadata": {}
  },
  {
   "cell_type": "code",
   "execution_count": 7,
   "source": [
    "loss_95 = pd.read_csv('data/lo_95.csv')\r\n",
    "loss_100 = pd.read_csv('data/lo_100.csv')\r\n",
    "loss_150 = pd.read_csv('data/lo_150.csv')"
   ],
   "outputs": [],
   "metadata": {}
  },
  {
   "cell_type": "code",
   "execution_count": 8,
   "source": [
    "index_95 = pd.read_csv('data/index_95.csv')\r\n",
    "index_100 = pd.read_csv('data/index_100.csv')\r\n",
    "index_150 = pd.read_csv('data/index_150.csv')"
   ],
   "outputs": [],
   "metadata": {}
  },
  {
   "cell_type": "markdown",
   "source": [
    "Currently, the dataframes have columns in the following name format: `<Description>_<Trial number>` as indicated down below."
   ],
   "metadata": {}
  },
  {
   "cell_type": "code",
   "execution_count": 9,
   "source": [
    "print(f'Win dataframes have the following name format: {\", \".join(list(win_100.columns[:3]))}')\r\n",
    "print(f'Loss dataframes have the following name format: {\", \".join(list(loss_100.columns[:3]))}')\r\n",
    "print(f'Choice dataframes have the following name format: {\", \".join(list(choice_100.columns[:3]))}')"
   ],
   "outputs": [
    {
     "output_type": "stream",
     "name": "stdout",
     "text": [
      "Win dataframes have the following name format: Wins_1, Wins_2, Wins_3\n",
      "Loss dataframes have the following name format: Losses_1, Losses_2, Losses_3\n",
      "Choice dataframes have the following name format: Choice_1, Choice_2, Choice_3\n"
     ]
    }
   ],
   "metadata": {}
  },
  {
   "cell_type": "markdown",
   "source": [
    "For uniformity, we will replace the column names to have a `Trial_<Trial number>` format as the dataframe variable names already indicates functionality. "
   ],
   "metadata": {}
  },
  {
   "cell_type": "code",
   "execution_count": 10,
   "source": [
    "column_names = [f'trial_{num}' for num in range(1,96)]\r\n",
    "choice_95.columns = win_95.columns = loss_95.columns = column_names\r\n",
    "\r\n",
    "column_names.extend([f'trial_{num}' for num in range(96,101)])\r\n",
    "choice_100.columns = win_100.columns = loss_100.columns = column_names\r\n",
    "\r\n",
    "column_names.extend([f'trial_{num}' for num in range(101,151)])\r\n",
    "choice_150.columns = win_150.columns = loss_150.columns = column_names\r\n",
    "\r\n",
    "win_95.head(5)"
   ],
   "outputs": [
    {
     "output_type": "execute_result",
     "data": {
      "text/html": [
       "<div>\n",
       "<style scoped>\n",
       "    .dataframe tbody tr th:only-of-type {\n",
       "        vertical-align: middle;\n",
       "    }\n",
       "\n",
       "    .dataframe tbody tr th {\n",
       "        vertical-align: top;\n",
       "    }\n",
       "\n",
       "    .dataframe thead th {\n",
       "        text-align: right;\n",
       "    }\n",
       "</style>\n",
       "<table border=\"1\" class=\"dataframe\">\n",
       "  <thead>\n",
       "    <tr style=\"text-align: right;\">\n",
       "      <th></th>\n",
       "      <th>trial_1</th>\n",
       "      <th>trial_2</th>\n",
       "      <th>trial_3</th>\n",
       "      <th>trial_4</th>\n",
       "      <th>trial_5</th>\n",
       "      <th>trial_6</th>\n",
       "      <th>trial_7</th>\n",
       "      <th>trial_8</th>\n",
       "      <th>trial_9</th>\n",
       "      <th>trial_10</th>\n",
       "      <th>...</th>\n",
       "      <th>trial_86</th>\n",
       "      <th>trial_87</th>\n",
       "      <th>trial_88</th>\n",
       "      <th>trial_89</th>\n",
       "      <th>trial_90</th>\n",
       "      <th>trial_91</th>\n",
       "      <th>trial_92</th>\n",
       "      <th>trial_93</th>\n",
       "      <th>trial_94</th>\n",
       "      <th>trial_95</th>\n",
       "    </tr>\n",
       "  </thead>\n",
       "  <tbody>\n",
       "    <tr>\n",
       "      <th>Subj_1</th>\n",
       "      <td>100</td>\n",
       "      <td>100</td>\n",
       "      <td>100</td>\n",
       "      <td>100</td>\n",
       "      <td>100</td>\n",
       "      <td>100</td>\n",
       "      <td>100</td>\n",
       "      <td>100</td>\n",
       "      <td>100</td>\n",
       "      <td>100</td>\n",
       "      <td>...</td>\n",
       "      <td>50</td>\n",
       "      <td>50</td>\n",
       "      <td>50</td>\n",
       "      <td>50</td>\n",
       "      <td>50</td>\n",
       "      <td>50</td>\n",
       "      <td>50</td>\n",
       "      <td>50</td>\n",
       "      <td>50</td>\n",
       "      <td>50</td>\n",
       "    </tr>\n",
       "    <tr>\n",
       "      <th>Subj_2</th>\n",
       "      <td>100</td>\n",
       "      <td>100</td>\n",
       "      <td>50</td>\n",
       "      <td>100</td>\n",
       "      <td>100</td>\n",
       "      <td>100</td>\n",
       "      <td>100</td>\n",
       "      <td>100</td>\n",
       "      <td>100</td>\n",
       "      <td>100</td>\n",
       "      <td>...</td>\n",
       "      <td>50</td>\n",
       "      <td>100</td>\n",
       "      <td>100</td>\n",
       "      <td>100</td>\n",
       "      <td>100</td>\n",
       "      <td>100</td>\n",
       "      <td>50</td>\n",
       "      <td>50</td>\n",
       "      <td>50</td>\n",
       "      <td>50</td>\n",
       "    </tr>\n",
       "    <tr>\n",
       "      <th>Subj_3</th>\n",
       "      <td>50</td>\n",
       "      <td>50</td>\n",
       "      <td>50</td>\n",
       "      <td>100</td>\n",
       "      <td>100</td>\n",
       "      <td>100</td>\n",
       "      <td>100</td>\n",
       "      <td>100</td>\n",
       "      <td>100</td>\n",
       "      <td>100</td>\n",
       "      <td>...</td>\n",
       "      <td>100</td>\n",
       "      <td>100</td>\n",
       "      <td>100</td>\n",
       "      <td>50</td>\n",
       "      <td>50</td>\n",
       "      <td>50</td>\n",
       "      <td>50</td>\n",
       "      <td>50</td>\n",
       "      <td>50</td>\n",
       "      <td>50</td>\n",
       "    </tr>\n",
       "    <tr>\n",
       "      <th>Subj_4</th>\n",
       "      <td>50</td>\n",
       "      <td>50</td>\n",
       "      <td>100</td>\n",
       "      <td>100</td>\n",
       "      <td>100</td>\n",
       "      <td>100</td>\n",
       "      <td>100</td>\n",
       "      <td>50</td>\n",
       "      <td>100</td>\n",
       "      <td>100</td>\n",
       "      <td>...</td>\n",
       "      <td>100</td>\n",
       "      <td>50</td>\n",
       "      <td>50</td>\n",
       "      <td>50</td>\n",
       "      <td>50</td>\n",
       "      <td>50</td>\n",
       "      <td>50</td>\n",
       "      <td>50</td>\n",
       "      <td>50</td>\n",
       "      <td>50</td>\n",
       "    </tr>\n",
       "    <tr>\n",
       "      <th>Subj_5</th>\n",
       "      <td>100</td>\n",
       "      <td>100</td>\n",
       "      <td>50</td>\n",
       "      <td>50</td>\n",
       "      <td>50</td>\n",
       "      <td>100</td>\n",
       "      <td>100</td>\n",
       "      <td>100</td>\n",
       "      <td>100</td>\n",
       "      <td>100</td>\n",
       "      <td>...</td>\n",
       "      <td>50</td>\n",
       "      <td>50</td>\n",
       "      <td>50</td>\n",
       "      <td>50</td>\n",
       "      <td>50</td>\n",
       "      <td>50</td>\n",
       "      <td>50</td>\n",
       "      <td>50</td>\n",
       "      <td>50</td>\n",
       "      <td>50</td>\n",
       "    </tr>\n",
       "  </tbody>\n",
       "</table>\n",
       "<p>5 rows × 95 columns</p>\n",
       "</div>"
      ],
      "text/plain": [
       "        trial_1  trial_2  trial_3  trial_4  trial_5  trial_6  trial_7  \\\n",
       "Subj_1      100      100      100      100      100      100      100   \n",
       "Subj_2      100      100       50      100      100      100      100   \n",
       "Subj_3       50       50       50      100      100      100      100   \n",
       "Subj_4       50       50      100      100      100      100      100   \n",
       "Subj_5      100      100       50       50       50      100      100   \n",
       "\n",
       "        trial_8  trial_9  trial_10  ...  trial_86  trial_87  trial_88  \\\n",
       "Subj_1      100      100       100  ...        50        50        50   \n",
       "Subj_2      100      100       100  ...        50       100       100   \n",
       "Subj_3      100      100       100  ...       100       100       100   \n",
       "Subj_4       50      100       100  ...       100        50        50   \n",
       "Subj_5      100      100       100  ...        50        50        50   \n",
       "\n",
       "        trial_89  trial_90  trial_91  trial_92  trial_93  trial_94  trial_95  \n",
       "Subj_1        50        50        50        50        50        50        50  \n",
       "Subj_2       100       100       100        50        50        50        50  \n",
       "Subj_3        50        50        50        50        50        50        50  \n",
       "Subj_4        50        50        50        50        50        50        50  \n",
       "Subj_5        50        50        50        50        50        50        50  \n",
       "\n",
       "[5 rows x 95 columns]"
      ]
     },
     "metadata": {},
     "execution_count": 10
    }
   ],
   "metadata": {}
  },
  {
   "cell_type": "markdown",
   "source": [
    "## Data Cleaning  \r\n",
    "Check for null values"
   ],
   "metadata": {}
  },
  {
   "cell_type": "code",
   "execution_count": 11,
   "source": [
    "print(f'Does choice_95 contain any null values? {choice_95.isnull().any().any()}')\r\n",
    "print(f'Does choice_100 contain any null values? {choice_100.isnull().any().any()}')\r\n",
    "print(f'Does choice_150 contain any null values? {choice_150.isnull().any().any()}')"
   ],
   "outputs": [
    {
     "output_type": "stream",
     "name": "stdout",
     "text": [
      "Does choice_95 contain any null values? False\n",
      "Does choice_100 contain any null values? False\n",
      "Does choice_150 contain any null values? False\n"
     ]
    }
   ],
   "metadata": {}
  },
  {
   "cell_type": "code",
   "execution_count": 12,
   "source": [
    "print(f'Does win_95 contain any null values? {win_95.isnull().any().any()}')\r\n",
    "print(f'Does win_100 contain any null values? {win_100.isnull().any().any()}')\r\n",
    "print(f'Does win_150 contain any null values? {win_150.isnull().any().any()}')"
   ],
   "outputs": [
    {
     "output_type": "stream",
     "name": "stdout",
     "text": [
      "Does win_95 contain any null values? False\n",
      "Does win_100 contain any null values? False\n",
      "Does win_150 contain any null values? False\n"
     ]
    }
   ],
   "metadata": {}
  },
  {
   "cell_type": "code",
   "execution_count": 13,
   "source": [
    "print(f'Does choice_95 contain any null values? {loss_95.isnull().any().any()}')\r\n",
    "print(f'Does choice_100 contain any null values? {loss_100.isnull().any().any()}')\r\n",
    "print(f'Does choice_150 contain any null values? {loss_150.isnull().any().any()}')"
   ],
   "outputs": [
    {
     "output_type": "stream",
     "name": "stdout",
     "text": [
      "Does choice_95 contain any null values? False\n",
      "Does choice_100 contain any null values? False\n",
      "Does choice_150 contain any null values? False\n"
     ]
    }
   ],
   "metadata": {}
  },
  {
   "cell_type": "code",
   "execution_count": 14,
   "source": [
    "print(f'Does index_95 contain any null values? {index_95.isnull().values.any()}')\r\n",
    "print(f'Does index_100 contain any null values? {index_100.isnull().values.any()}')\r\n",
    "print(f'Does index_150 contain any null values? {index_150.isnull().values.any()}')"
   ],
   "outputs": [
    {
     "output_type": "stream",
     "name": "stdout",
     "text": [
      "Does index_95 contain any null values? False\n",
      "Does index_100 contain any null values? False\n",
      "Does index_150 contain any null values? False\n"
     ]
    }
   ],
   "metadata": {}
  },
  {
   "cell_type": "markdown",
   "source": [
    "This finding seems to contradict the original 'many labs' paper. They suggest that their should be missing data present in the 100 trial dataframes due to incompletely received datasets (i.e., missing data for one participant in\r\n",
    "Kjome et al. study, and for two participants in Wood et al. study). However, they use the word 'might' so it is possible that this has been rectified since then. I also further validated this assumption by using the R programming language as the organizers provided the datasets in the rdata format. The below screenshot confirms my assumption that no missing values are present.\r\n",
    "\r\n",
    "![absence-of-missing-values-verified-in-r](images/missing_values_verified_in_r.png)\r\n",
    "\r\n",
    "\r\n",
    "Next, we calculate the basic statistics of each data set. This is a trivial step and it is designed to increase my understanding of the problem."
   ],
   "metadata": {}
  },
  {
   "cell_type": "code",
   "execution_count": 15,
   "source": [
    "# choice dataframes\r\n",
    "for trial_num in [95, 100, 150]:\r\n",
    "    print(f'choice_{trial_num} basic statistics')\r\n",
    "    print(globals()[f'choice_{trial_num}'].describe().iloc[:,:6])\r\n",
    "    print('\\n')"
   ],
   "outputs": [
    {
     "output_type": "stream",
     "name": "stdout",
     "text": [
      "choice_95 basic statistics\n",
      "         trial_1    trial_2    trial_3    trial_4    trial_5    trial_6\n",
      "count  15.000000  15.000000  15.000000  15.000000  15.000000  15.000000\n",
      "mean    2.133333   2.333333   2.466667   2.600000   2.533333   2.133333\n",
      "std     1.355764   0.816497   1.060099   1.183216   1.125463   0.990430\n",
      "min     1.000000   1.000000   1.000000   1.000000   1.000000   1.000000\n",
      "25%     1.000000   2.000000   1.500000   2.000000   2.000000   1.500000\n",
      "50%     1.000000   2.000000   3.000000   2.000000   2.000000   2.000000\n",
      "75%     3.500000   2.500000   3.000000   4.000000   3.500000   2.500000\n",
      "max     4.000000   4.000000   4.000000   4.000000   4.000000   4.000000\n",
      "\n",
      "\n",
      "choice_100 basic statistics\n",
      "          trial_1     trial_2     trial_3     trial_4     trial_5     trial_6\n",
      "count  504.000000  504.000000  504.000000  504.000000  504.000000  504.000000\n",
      "mean     2.142857    2.416667    2.337302    2.434524    2.281746    2.337302\n",
      "std      1.099172    1.092628    1.090952    1.138377    1.095801    1.044401\n",
      "min      1.000000    1.000000    1.000000    1.000000    1.000000    1.000000\n",
      "25%      1.000000    1.000000    1.000000    1.000000    1.000000    2.000000\n",
      "50%      2.000000    2.000000    2.000000    2.000000    2.000000    2.000000\n",
      "75%      3.000000    3.000000    3.000000    4.000000    3.000000    3.000000\n",
      "max      4.000000    4.000000    4.000000    4.000000    4.000000    4.000000\n",
      "\n",
      "\n",
      "choice_150 basic statistics\n",
      "         trial_1    trial_2    trial_3    trial_4    trial_5    trial_6\n",
      "count  98.000000  98.000000  98.000000  98.000000  98.000000  98.000000\n",
      "mean    2.795918   2.663265   2.469388   2.561224   2.500000   2.346939\n",
      "std     1.044960   1.083559   1.168346   1.175930   1.159897   1.103902\n",
      "min     1.000000   1.000000   1.000000   1.000000   1.000000   1.000000\n",
      "25%     2.000000   2.000000   1.000000   1.250000   1.250000   1.000000\n",
      "50%     3.000000   3.000000   2.000000   3.000000   2.000000   2.000000\n",
      "75%     4.000000   4.000000   4.000000   4.000000   4.000000   3.000000\n",
      "max     4.000000   4.000000   4.000000   4.000000   4.000000   4.000000\n",
      "\n",
      "\n"
     ]
    }
   ],
   "metadata": {}
  },
  {
   "cell_type": "code",
   "execution_count": 16,
   "source": [
    "# win dataframes\r\n",
    "for trial_num in [95, 100, 150]:\r\n",
    "    print(f'win_{trial_num} basic statistics')\r\n",
    "    print(globals()[f'win_{trial_num}'].describe().iloc[:,:6])\r\n",
    "    print('\\n')"
   ],
   "outputs": [
    {
     "output_type": "stream",
     "name": "stdout",
     "text": [
      "win_95 basic statistics\n",
      "          trial_1     trial_2     trial_3     trial_4     trial_5     trial_6\n",
      "count   15.000000   15.000000   15.000000   15.000000   15.000000   15.000000\n",
      "mean    80.000000   86.666667   70.000000   76.666667   76.666667   86.666667\n",
      "std     25.354628   22.886885   25.354628   25.819889   25.819889   22.886885\n",
      "min     50.000000   50.000000   50.000000   50.000000   50.000000   50.000000\n",
      "25%     50.000000   75.000000   50.000000   50.000000   50.000000   75.000000\n",
      "50%    100.000000  100.000000   50.000000  100.000000  100.000000  100.000000\n",
      "75%    100.000000  100.000000  100.000000  100.000000  100.000000  100.000000\n",
      "max    100.000000  100.000000  100.000000  100.000000  100.000000  100.000000\n",
      "\n",
      "\n",
      "win_100 basic statistics\n",
      "          trial_1     trial_2     trial_3     trial_4     trial_5     trial_6\n",
      "count  504.000000  504.000000  504.000000  504.000000  504.000000  504.000000\n",
      "mean    81.646825   77.956349   76.636905   77.172619   81.369048   80.724206\n",
      "std     24.124146   26.566060   25.105129   25.387493   25.387860   25.399812\n",
      "min     50.000000   40.000000   40.000000   40.000000   40.000000   40.000000\n",
      "25%     50.000000   50.000000   50.000000   50.000000   50.000000   50.000000\n",
      "50%    100.000000  100.000000   80.000000   90.000000  100.000000  100.000000\n",
      "75%    100.000000  100.000000  100.000000  100.000000  100.000000  100.000000\n",
      "max    100.000000  120.000000  120.000000  120.000000  120.000000  120.000000\n",
      "\n",
      "\n",
      "win_150 basic statistics\n",
      "          trial_1     trial_2     trial_3     trial_4     trial_5     trial_6\n",
      "count   98.000000   98.000000   98.000000   98.000000   98.000000   98.000000\n",
      "mean    68.877551   72.959184   75.510204   74.489796   76.530612   79.591837\n",
      "std     24.363343   25.044669   25.123302   25.123302   25.081395   24.701032\n",
      "min     50.000000   50.000000   50.000000   50.000000   50.000000   50.000000\n",
      "25%     50.000000   50.000000   50.000000   50.000000   50.000000   50.000000\n",
      "50%     50.000000   50.000000  100.000000   50.000000  100.000000  100.000000\n",
      "75%    100.000000  100.000000  100.000000  100.000000  100.000000  100.000000\n",
      "max    100.000000  100.000000  100.000000  100.000000  100.000000  100.000000\n",
      "\n",
      "\n"
     ]
    }
   ],
   "metadata": {}
  },
  {
   "cell_type": "code",
   "execution_count": 17,
   "source": [
    "# loss dataframes\r\n",
    "for trial_num in [95, 100, 150]:\r\n",
    "    print(f'loss_{trial_num} basic statistics')\r\n",
    "    print(globals()[f'loss_{trial_num}'].describe().iloc[:,:6])\r\n",
    "    print('\\n')"
   ],
   "outputs": [
    {
     "output_type": "stream",
     "name": "stdout",
     "text": [
      "loss_95 basic statistics\n",
      "       trial_1  trial_2    trial_3  trial_4     trial_5  trial_6\n",
      "count     15.0     15.0  15.000000     15.0   15.000000     15.0\n",
      "mean       0.0      0.0  -3.333333      0.0  -20.000000      0.0\n",
      "std        0.0      0.0  12.909944      0.0   52.779866      0.0\n",
      "min        0.0      0.0 -50.000000      0.0 -150.000000      0.0\n",
      "25%        0.0      0.0   0.000000      0.0    0.000000      0.0\n",
      "50%        0.0      0.0   0.000000      0.0    0.000000      0.0\n",
      "75%        0.0      0.0   0.000000      0.0    0.000000      0.0\n",
      "max        0.0      0.0   0.000000      0.0    0.000000      0.0\n",
      "\n",
      "\n",
      "loss_100 basic statistics\n",
      "           trial_1      trial_2      trial_3      trial_4      trial_5  \\\n",
      "count   504.000000   504.000000   504.000000   504.000000   504.000000   \n",
      "mean    -37.301587   -40.376984   -64.682540   -39.384921   -49.107143   \n",
      "std     149.610031   175.942949   192.871723   152.257429   157.402488   \n",
      "min   -1250.000000 -1250.000000 -1250.000000 -1250.000000 -1250.000000   \n",
      "25%       0.000000     0.000000   -50.000000     0.000000     0.000000   \n",
      "50%       0.000000     0.000000     0.000000     0.000000     0.000000   \n",
      "75%       0.000000     0.000000     0.000000     0.000000     0.000000   \n",
      "max       0.000000     0.000000     0.000000     0.000000     0.000000   \n",
      "\n",
      "           trial_6  \n",
      "count   504.000000  \n",
      "mean    -58.333333  \n",
      "std     213.067159  \n",
      "min   -1250.000000  \n",
      "25%       0.000000  \n",
      "50%       0.000000  \n",
      "75%       0.000000  \n",
      "max       0.000000  \n",
      "\n",
      "\n",
      "loss_150 basic statistics\n",
      "          trial_1      trial_2      trial_3      trial_4      trial_5  \\\n",
      "count   98.000000    98.000000    98.000000    98.000000    98.000000   \n",
      "mean   -33.673469   -64.795918   -81.122449   -88.775510  -120.918367   \n",
      "std     75.905364   191.872109   227.323661   255.509458   302.218896   \n",
      "min   -350.000000 -1250.000000 -1250.000000 -1250.000000 -1250.000000   \n",
      "25%    -50.000000   -50.000000   -50.000000   -50.000000   -50.000000   \n",
      "50%      0.000000     0.000000     0.000000     0.000000     0.000000   \n",
      "75%      0.000000     0.000000     0.000000     0.000000     0.000000   \n",
      "max      0.000000     0.000000     0.000000     0.000000     0.000000   \n",
      "\n",
      "           trial_6  \n",
      "count    98.000000  \n",
      "mean   -109.183673  \n",
      "std     282.692042  \n",
      "min   -1250.000000  \n",
      "25%     -50.000000  \n",
      "50%       0.000000  \n",
      "75%       0.000000  \n",
      "max       0.000000  \n",
      "\n",
      "\n"
     ]
    }
   ],
   "metadata": {}
  },
  {
   "cell_type": "markdown",
   "source": [
    "### Data Augmentation\n",
    "\n",
    "We are interested in how healthy vs unhealthy individuals will cluster. To this end, we include data from a study conducted by {cite:t}`ahn2014decision`. This dataset contains 48 healthy controls, 43 pure heroin and 38 pure amphetamine users."
   ],
   "metadata": {}
  },
  {
   "cell_type": "markdown",
   "source": [
    "Now, we perform the necessary processing steps  to 'pivot' the new data so that it  resembles the already created dataframes. Unfortunately not every subject had data present for all of the 100 trials. If a subject had incomplete data, they were removed from this investigation. As a result, we removed 1 healthy individual, 1 individual who takes heroin and 2 individuals who take amphetamine."
   ],
   "metadata": {}
  },
  {
   "cell_type": "code",
   "execution_count": 18,
   "source": [
    "def remove_incomplete_subjects(ahn_df):\r\n",
    "    \"\"\"\r\n",
    "    If a subject does not have data for ALL 100 trials\r\n",
    "        remove them\r\n",
    "    :param ahn_df: pandas dataframe in a format devised\r\n",
    "        by Ahn et al.\r\n",
    "    \"\"\"\r\n",
    "    for subject in  ahn_df[\"subjID\"].unique():\r\n",
    "        subject_df = ahn_df[ahn_df[\"subjID\"] == subject]\r\n",
    "        if subject_df['trial'].values.tolist() != list(range(1,101)):\r\n",
    "            ahn_df = ahn_df[ahn_df[\"subjID\"] != subject]\r\n",
    "    return ahn_df"
   ],
   "outputs": [],
   "metadata": {}
  },
  {
   "cell_type": "code",
   "execution_count": 19,
   "source": [
    "ahn_healthy_100 = pd.read_csv('data/IGTdata_healthy_control.txt', sep=\"\\t\")\r\n",
    "ahn_heroin_100 = pd.read_csv('data/IGTdata_heroin.txt', sep=\"\\t\")\r\n",
    "ahn_amphetamine_100 = pd.read_csv('data/IGTdata_amphetamine.txt', sep=\"\\t\")\r\n",
    "\r\n",
    "ahn_healthy_100 = remove_incomplete_subjects(ahn_healthy_100)\r\n",
    "ahn_heroin_100 = remove_incomplete_subjects(ahn_heroin_100)\r\n",
    "ahn_amphetamine_100 = remove_incomplete_subjects(ahn_amphetamine_100)\r\n",
    "\r\n",
    "assert ahn_healthy_100[\"subjID\"].nunique() == 47\r\n",
    "assert ahn_heroin_100[\"subjID\"].nunique() == 42\r\n",
    "assert ahn_amphetamine_100[\"subjID\"].nunique() == 36\r\n"
   ],
   "outputs": [],
   "metadata": {}
  },
  {
   "cell_type": "markdown",
   "source": [
    "Down below, we define two helper functions that pivot and concat data."
   ],
   "metadata": {}
  },
  {
   "cell_type": "code",
   "execution_count": 20,
   "source": [
    "def pivot_ahn_to_many_labs(org_df, health_status, selection_type):\r\n",
    "    \"\"\"\r\n",
    "    Pivots a dataframe present in format devised by Ahn et al. to\r\n",
    "    one devised by the authors of the many labs initiative\r\n",
    "    \r\n",
    "    :param org_dataframe: pandas dataframe in a format devised\r\n",
    "        by Ahn et al.\r\n",
    "    :param health_status: a variable detailing whether the subject is\r\n",
    "        healthy, or takes heroin/amphetamine.\r\n",
    "    :param selection_type: selection type decides do we want choices, \r\n",
    "        wins or losses of the particpants.\r\n",
    "        options:\r\n",
    "            deck -> choices\r\n",
    "            gain -> wins\r\n",
    "            losses -> losses\r\n",
    "    \"\"\"\r\n",
    "    new_dataframe = org_df.pivot(\r\n",
    "        index='subjID', columns='trial').rename_axis(None, axis=0)[selection_type].rename_axis(None, axis=1)\r\n",
    "    new_dataframe = new_dataframe.add_prefix('trial_')\r\n",
    "    new_dataframe.insert(0,'health status', health_status)\r\n",
    "    new_dataframe.insert(0,'study','Ahn')\r\n",
    "    return new_dataframe\r\n",
    "    "
   ],
   "outputs": [],
   "metadata": {}
  },
  {
   "cell_type": "code",
   "execution_count": 21,
   "source": [
    "def concat_ahn_to_many_labs( many_labs_df, ahn_healthy_df, ahn_heroin_df, ahn_amphetamine_df):\r\n",
    "    \"\"\"\r\n",
    "    Concats a 100 trial 'many labs' dataframe with the dataframes provided by Ahn et al.\r\n",
    "    Also, maps the health status('healthy') and the study's first author to each particpant \r\n",
    "        of a many labs dataset.\r\n",
    "    \r\n",
    "    :param many_labs_df: Dataframe containing data from the many labs paper\r\n",
    "    :param ahn_healthy_df: Contains the healthy individuals of the Ahn et al study\r\n",
    "    :param ahn_heroin_df: Contains the individuals who take heroin (Ahn et al. study)\r\n",
    "    :param ahn_heroin_df: Contains the individuals who take amphetamines (Ahn et al, study)\r\n",
    "    \"\"\"\r\n",
    "    many_labs_df.insert(0,'health status', 'healthy')\r\n",
    "    many_labs_df.insert(0, 'study', index_100['Study'].values)\r\n",
    "    concated_df = pd.concat([\r\n",
    "        many_labs_df, ahn_healthy_df, ahn_heroin_df, ahn_amphetamine_df\r\n",
    "            ], ignore_index=True)\r\n",
    "    \r\n",
    "    return concated_df\r\n"
   ],
   "outputs": [],
   "metadata": {}
  },
  {
   "cell_type": "markdown",
   "source": [
    "Next, we pivot the Ahn et al. data so that it follows the many labs format i.e. split by choice, win or loss.\r\n",
    "The variable name of the pivoted datasets have the form:\r\n",
    "-   `ahn_{health_status}_{selection_type}_100`"
   ],
   "metadata": {}
  },
  {
   "cell_type": "code",
   "execution_count": 22,
   "source": [
    "ahn_healthy_choice_100 = pivot_ahn_to_many_labs(ahn_healthy_100, 'healthy', 'deck')\r\n",
    "ahn_heroin_choice_100 = pivot_ahn_to_many_labs(ahn_heroin_100, 'heroin', 'deck')\r\n",
    "ahn_amphetamine_choice_100 = pivot_ahn_to_many_labs(ahn_amphetamine_100, 'amphetamine', 'deck')\r\n",
    "\r\n",
    "ahn_healthy_win_100 = pivot_ahn_to_many_labs(ahn_healthy_100, 'healthy', 'gain')\r\n",
    "ahn_heroin_win_100 = pivot_ahn_to_many_labs(ahn_heroin_100, 'heroin', 'gain')\r\n",
    "ahn_amphetamine_win_100 = pivot_ahn_to_many_labs(ahn_amphetamine_100, 'amphetamine', 'gain')\r\n",
    "\r\n",
    "ahn_healthy_loss_100 = pivot_ahn_to_many_labs(ahn_healthy_100, 'healthy', 'loss')\r\n",
    "ahn_heroin_loss_100 = pivot_ahn_to_many_labs(ahn_heroin_100, 'heroin', 'loss')\r\n",
    "ahn_amphetamine_loss_100 = pivot_ahn_to_many_labs(ahn_amphetamine_100, 'amphetamine', 'loss')\r\n",
    "\r\n",
    "ahn_healthy_choice_100.head(5)"
   ],
   "outputs": [
    {
     "output_type": "execute_result",
     "data": {
      "text/html": [
       "<div>\n",
       "<style scoped>\n",
       "    .dataframe tbody tr th:only-of-type {\n",
       "        vertical-align: middle;\n",
       "    }\n",
       "\n",
       "    .dataframe tbody tr th {\n",
       "        vertical-align: top;\n",
       "    }\n",
       "\n",
       "    .dataframe thead th {\n",
       "        text-align: right;\n",
       "    }\n",
       "</style>\n",
       "<table border=\"1\" class=\"dataframe\">\n",
       "  <thead>\n",
       "    <tr style=\"text-align: right;\">\n",
       "      <th></th>\n",
       "      <th>study</th>\n",
       "      <th>health status</th>\n",
       "      <th>trial_1</th>\n",
       "      <th>trial_2</th>\n",
       "      <th>trial_3</th>\n",
       "      <th>trial_4</th>\n",
       "      <th>trial_5</th>\n",
       "      <th>trial_6</th>\n",
       "      <th>trial_7</th>\n",
       "      <th>trial_8</th>\n",
       "      <th>...</th>\n",
       "      <th>trial_91</th>\n",
       "      <th>trial_92</th>\n",
       "      <th>trial_93</th>\n",
       "      <th>trial_94</th>\n",
       "      <th>trial_95</th>\n",
       "      <th>trial_96</th>\n",
       "      <th>trial_97</th>\n",
       "      <th>trial_98</th>\n",
       "      <th>trial_99</th>\n",
       "      <th>trial_100</th>\n",
       "    </tr>\n",
       "  </thead>\n",
       "  <tbody>\n",
       "    <tr>\n",
       "      <th>103</th>\n",
       "      <td>Ahn</td>\n",
       "      <td>healthy</td>\n",
       "      <td>3</td>\n",
       "      <td>3</td>\n",
       "      <td>3</td>\n",
       "      <td>4</td>\n",
       "      <td>3</td>\n",
       "      <td>1</td>\n",
       "      <td>1</td>\n",
       "      <td>2</td>\n",
       "      <td>...</td>\n",
       "      <td>4</td>\n",
       "      <td>4</td>\n",
       "      <td>4</td>\n",
       "      <td>4</td>\n",
       "      <td>4</td>\n",
       "      <td>4</td>\n",
       "      <td>4</td>\n",
       "      <td>4</td>\n",
       "      <td>4</td>\n",
       "      <td>4</td>\n",
       "    </tr>\n",
       "    <tr>\n",
       "      <th>104</th>\n",
       "      <td>Ahn</td>\n",
       "      <td>healthy</td>\n",
       "      <td>1</td>\n",
       "      <td>2</td>\n",
       "      <td>3</td>\n",
       "      <td>4</td>\n",
       "      <td>2</td>\n",
       "      <td>3</td>\n",
       "      <td>1</td>\n",
       "      <td>1</td>\n",
       "      <td>...</td>\n",
       "      <td>2</td>\n",
       "      <td>4</td>\n",
       "      <td>4</td>\n",
       "      <td>2</td>\n",
       "      <td>4</td>\n",
       "      <td>2</td>\n",
       "      <td>4</td>\n",
       "      <td>2</td>\n",
       "      <td>4</td>\n",
       "      <td>2</td>\n",
       "    </tr>\n",
       "    <tr>\n",
       "      <th>114</th>\n",
       "      <td>Ahn</td>\n",
       "      <td>healthy</td>\n",
       "      <td>2</td>\n",
       "      <td>1</td>\n",
       "      <td>2</td>\n",
       "      <td>4</td>\n",
       "      <td>4</td>\n",
       "      <td>2</td>\n",
       "      <td>2</td>\n",
       "      <td>1</td>\n",
       "      <td>...</td>\n",
       "      <td>4</td>\n",
       "      <td>2</td>\n",
       "      <td>4</td>\n",
       "      <td>4</td>\n",
       "      <td>2</td>\n",
       "      <td>2</td>\n",
       "      <td>4</td>\n",
       "      <td>2</td>\n",
       "      <td>4</td>\n",
       "      <td>4</td>\n",
       "    </tr>\n",
       "    <tr>\n",
       "      <th>115</th>\n",
       "      <td>Ahn</td>\n",
       "      <td>healthy</td>\n",
       "      <td>1</td>\n",
       "      <td>3</td>\n",
       "      <td>3</td>\n",
       "      <td>4</td>\n",
       "      <td>3</td>\n",
       "      <td>4</td>\n",
       "      <td>2</td>\n",
       "      <td>4</td>\n",
       "      <td>...</td>\n",
       "      <td>1</td>\n",
       "      <td>4</td>\n",
       "      <td>4</td>\n",
       "      <td>4</td>\n",
       "      <td>3</td>\n",
       "      <td>1</td>\n",
       "      <td>3</td>\n",
       "      <td>4</td>\n",
       "      <td>4</td>\n",
       "      <td>3</td>\n",
       "    </tr>\n",
       "    <tr>\n",
       "      <th>116</th>\n",
       "      <td>Ahn</td>\n",
       "      <td>healthy</td>\n",
       "      <td>3</td>\n",
       "      <td>2</td>\n",
       "      <td>1</td>\n",
       "      <td>4</td>\n",
       "      <td>4</td>\n",
       "      <td>3</td>\n",
       "      <td>2</td>\n",
       "      <td>1</td>\n",
       "      <td>...</td>\n",
       "      <td>3</td>\n",
       "      <td>3</td>\n",
       "      <td>1</td>\n",
       "      <td>1</td>\n",
       "      <td>2</td>\n",
       "      <td>3</td>\n",
       "      <td>3</td>\n",
       "      <td>4</td>\n",
       "      <td>2</td>\n",
       "      <td>2</td>\n",
       "    </tr>\n",
       "  </tbody>\n",
       "</table>\n",
       "<p>5 rows × 102 columns</p>\n",
       "</div>"
      ],
      "text/plain": [
       "    study health status  trial_1  trial_2  trial_3  trial_4  trial_5  trial_6  \\\n",
       "103   Ahn       healthy        3        3        3        4        3        1   \n",
       "104   Ahn       healthy        1        2        3        4        2        3   \n",
       "114   Ahn       healthy        2        1        2        4        4        2   \n",
       "115   Ahn       healthy        1        3        3        4        3        4   \n",
       "116   Ahn       healthy        3        2        1        4        4        3   \n",
       "\n",
       "     trial_7  trial_8  ...  trial_91  trial_92  trial_93  trial_94  trial_95  \\\n",
       "103        1        2  ...         4         4         4         4         4   \n",
       "104        1        1  ...         2         4         4         2         4   \n",
       "114        2        1  ...         4         2         4         4         2   \n",
       "115        2        4  ...         1         4         4         4         3   \n",
       "116        2        1  ...         3         3         1         1         2   \n",
       "\n",
       "     trial_96  trial_97  trial_98  trial_99  trial_100  \n",
       "103         4         4         4         4          4  \n",
       "104         2         4         2         4          2  \n",
       "114         2         4         2         4          4  \n",
       "115         1         3         4         4          3  \n",
       "116         3         3         4         2          2  \n",
       "\n",
       "[5 rows x 102 columns]"
      ]
     },
     "metadata": {},
     "execution_count": 22
    }
   ],
   "metadata": {}
  },
  {
   "cell_type": "markdown",
   "source": [
    "We concat the many_labs dataframe with the dataframes provided by Ahn et al. for each type (i.e. choice, win or loss)."
   ],
   "metadata": {}
  },
  {
   "cell_type": "code",
   "execution_count": 23,
   "source": [
    "total_choice_100 = concat_ahn_to_many_labs(choice_100,ahn_healthy_choice_100, ahn_heroin_choice_100, ahn_amphetamine_choice_100)\r\n",
    "total_win_100 = concat_ahn_to_many_labs(win_100,ahn_healthy_win_100, ahn_heroin_win_100, ahn_amphetamine_win_100)\r\n",
    "total_loss_100 = concat_ahn_to_many_labs(loss_100,ahn_healthy_loss_100, ahn_heroin_loss_100, ahn_amphetamine_loss_100)\r\n",
    "total_choice_100.head(5)"
   ],
   "outputs": [
    {
     "output_type": "execute_result",
     "data": {
      "text/html": [
       "<div>\n",
       "<style scoped>\n",
       "    .dataframe tbody tr th:only-of-type {\n",
       "        vertical-align: middle;\n",
       "    }\n",
       "\n",
       "    .dataframe tbody tr th {\n",
       "        vertical-align: top;\n",
       "    }\n",
       "\n",
       "    .dataframe thead th {\n",
       "        text-align: right;\n",
       "    }\n",
       "</style>\n",
       "<table border=\"1\" class=\"dataframe\">\n",
       "  <thead>\n",
       "    <tr style=\"text-align: right;\">\n",
       "      <th></th>\n",
       "      <th>study</th>\n",
       "      <th>health status</th>\n",
       "      <th>trial_1</th>\n",
       "      <th>trial_2</th>\n",
       "      <th>trial_3</th>\n",
       "      <th>trial_4</th>\n",
       "      <th>trial_5</th>\n",
       "      <th>trial_6</th>\n",
       "      <th>trial_7</th>\n",
       "      <th>trial_8</th>\n",
       "      <th>...</th>\n",
       "      <th>trial_91</th>\n",
       "      <th>trial_92</th>\n",
       "      <th>trial_93</th>\n",
       "      <th>trial_94</th>\n",
       "      <th>trial_95</th>\n",
       "      <th>trial_96</th>\n",
       "      <th>trial_97</th>\n",
       "      <th>trial_98</th>\n",
       "      <th>trial_99</th>\n",
       "      <th>trial_100</th>\n",
       "    </tr>\n",
       "  </thead>\n",
       "  <tbody>\n",
       "    <tr>\n",
       "      <th>0</th>\n",
       "      <td>Horstmann</td>\n",
       "      <td>healthy</td>\n",
       "      <td>1</td>\n",
       "      <td>1</td>\n",
       "      <td>2</td>\n",
       "      <td>4</td>\n",
       "      <td>3</td>\n",
       "      <td>2</td>\n",
       "      <td>1</td>\n",
       "      <td>2</td>\n",
       "      <td>...</td>\n",
       "      <td>1</td>\n",
       "      <td>1</td>\n",
       "      <td>1</td>\n",
       "      <td>2</td>\n",
       "      <td>2</td>\n",
       "      <td>2</td>\n",
       "      <td>4</td>\n",
       "      <td>2</td>\n",
       "      <td>4</td>\n",
       "      <td>2</td>\n",
       "    </tr>\n",
       "    <tr>\n",
       "      <th>1</th>\n",
       "      <td>Horstmann</td>\n",
       "      <td>healthy</td>\n",
       "      <td>2</td>\n",
       "      <td>1</td>\n",
       "      <td>4</td>\n",
       "      <td>4</td>\n",
       "      <td>3</td>\n",
       "      <td>2</td>\n",
       "      <td>3</td>\n",
       "      <td>2</td>\n",
       "      <td>...</td>\n",
       "      <td>4</td>\n",
       "      <td>2</td>\n",
       "      <td>3</td>\n",
       "      <td>4</td>\n",
       "      <td>2</td>\n",
       "      <td>4</td>\n",
       "      <td>4</td>\n",
       "      <td>2</td>\n",
       "      <td>2</td>\n",
       "      <td>4</td>\n",
       "    </tr>\n",
       "    <tr>\n",
       "      <th>2</th>\n",
       "      <td>Horstmann</td>\n",
       "      <td>healthy</td>\n",
       "      <td>4</td>\n",
       "      <td>2</td>\n",
       "      <td>3</td>\n",
       "      <td>1</td>\n",
       "      <td>4</td>\n",
       "      <td>2</td>\n",
       "      <td>4</td>\n",
       "      <td>4</td>\n",
       "      <td>...</td>\n",
       "      <td>3</td>\n",
       "      <td>2</td>\n",
       "      <td>1</td>\n",
       "      <td>4</td>\n",
       "      <td>2</td>\n",
       "      <td>2</td>\n",
       "      <td>2</td>\n",
       "      <td>4</td>\n",
       "      <td>2</td>\n",
       "      <td>2</td>\n",
       "    </tr>\n",
       "    <tr>\n",
       "      <th>3</th>\n",
       "      <td>Horstmann</td>\n",
       "      <td>healthy</td>\n",
       "      <td>4</td>\n",
       "      <td>3</td>\n",
       "      <td>4</td>\n",
       "      <td>2</td>\n",
       "      <td>1</td>\n",
       "      <td>4</td>\n",
       "      <td>3</td>\n",
       "      <td>2</td>\n",
       "      <td>...</td>\n",
       "      <td>4</td>\n",
       "      <td>2</td>\n",
       "      <td>3</td>\n",
       "      <td>4</td>\n",
       "      <td>3</td>\n",
       "      <td>4</td>\n",
       "      <td>1</td>\n",
       "      <td>4</td>\n",
       "      <td>3</td>\n",
       "      <td>4</td>\n",
       "    </tr>\n",
       "    <tr>\n",
       "      <th>4</th>\n",
       "      <td>Horstmann</td>\n",
       "      <td>healthy</td>\n",
       "      <td>1</td>\n",
       "      <td>2</td>\n",
       "      <td>2</td>\n",
       "      <td>2</td>\n",
       "      <td>2</td>\n",
       "      <td>3</td>\n",
       "      <td>4</td>\n",
       "      <td>1</td>\n",
       "      <td>...</td>\n",
       "      <td>2</td>\n",
       "      <td>2</td>\n",
       "      <td>2</td>\n",
       "      <td>2</td>\n",
       "      <td>3</td>\n",
       "      <td>3</td>\n",
       "      <td>3</td>\n",
       "      <td>3</td>\n",
       "      <td>4</td>\n",
       "      <td>4</td>\n",
       "    </tr>\n",
       "  </tbody>\n",
       "</table>\n",
       "<p>5 rows × 102 columns</p>\n",
       "</div>"
      ],
      "text/plain": [
       "       study health status  trial_1  trial_2  trial_3  trial_4  trial_5  \\\n",
       "0  Horstmann       healthy        1        1        2        4        3   \n",
       "1  Horstmann       healthy        2        1        4        4        3   \n",
       "2  Horstmann       healthy        4        2        3        1        4   \n",
       "3  Horstmann       healthy        4        3        4        2        1   \n",
       "4  Horstmann       healthy        1        2        2        2        2   \n",
       "\n",
       "   trial_6  trial_7  trial_8  ...  trial_91  trial_92  trial_93  trial_94  \\\n",
       "0        2        1        2  ...         1         1         1         2   \n",
       "1        2        3        2  ...         4         2         3         4   \n",
       "2        2        4        4  ...         3         2         1         4   \n",
       "3        4        3        2  ...         4         2         3         4   \n",
       "4        3        4        1  ...         2         2         2         2   \n",
       "\n",
       "   trial_95  trial_96  trial_97  trial_98  trial_99  trial_100  \n",
       "0         2         2         4         2         4          2  \n",
       "1         2         4         4         2         2          4  \n",
       "2         2         2         2         4         2          2  \n",
       "3         3         4         1         4         3          4  \n",
       "4         3         3         3         3         4          4  \n",
       "\n",
       "[5 rows x 102 columns]"
      ]
     },
     "metadata": {},
     "execution_count": 23
    }
   ],
   "metadata": {}
  },
  {
   "cell_type": "markdown",
   "source": [
    "The next two cells map the health status('healthy') and study's first author to each subject in the 95 and 150 trial studies. **Note**, this was completed for 100 trial studies above in the `pivot_ahn_to_many_labs()` function .\r\n"
   ],
   "metadata": {}
  },
  {
   "cell_type": "code",
   "execution_count": 24,
   "source": [
    "choice_95.insert(0,'health status', 'healthy')\r\n",
    "choice_95.insert(0, 'study', index_95['Study'].values)\r\n",
    "win_95.insert(0,'health status', 'healthy')\r\n",
    "win_95.insert(0, 'study', index_95['Study'].values)\r\n",
    "loss_95.insert(0,'health status', 'healthy')\r\n",
    "loss_95.insert(0, 'study', index_95['Study'].values)"
   ],
   "outputs": [],
   "metadata": {}
  },
  {
   "cell_type": "code",
   "execution_count": 25,
   "source": [
    "choice_150.insert(0,'health status', 'healthy')\r\n",
    "choice_150.insert(0, 'study', index_150['Study'].values)\r\n",
    "win_150.insert(0,'health status', 'healthy')\r\n",
    "win_150.insert(0, 'study', index_150['Study'].values)\r\n",
    "loss_150.insert(0,'health status', 'healthy')\r\n",
    "loss_150.insert(0, 'study', index_150['Study'].values)"
   ],
   "outputs": [],
   "metadata": {}
  },
  {
   "cell_type": "markdown",
   "source": [
    "Cumulative reward is commonly used to evaluate reinforcement learning models (RLM). This metric stems form the idea on how humans learn through interaction. RLMs attempt to be a computational approach of the same mechanism:\r\n",
    "- A agent receives state $S_{0}$ from the environment (In this case, the agent received the four decks of cards, \"untouched\").\r\n",
    "- Based on the $S_{0}$, the agent takes an action $A_{0}$  (our agent will pick a card from deck A, B, C, or D).\r\n",
    "- Environment transitions to a new state $S_{1}$ (our agent is present with the same deck of cards, albeit their first choice absent).\r\n",
    "- Environment  gives some reward $R_{1}$ to the agent.\r\n",
    "\r\n",
    "Therefore, Cumulative reward at trial t can be defined as:\r\n",
    "$$\r\n",
    "G(t) = \\sum_{k=0}^T R_{t+k+1}\r\n",
    "$$ \r\n",
    "\r\n",
    "\r\n",
    "In the same respect, we  attempt to plot the cumulative reward (total) for the participants surveyed. However, given the large number of participants available, it is infeasible to plot for every subject. Therefore, we will group participants by study. When plotting, the average cumulative total at trial T for a study of N participants will be calculated as follows:\r\n",
    "\r\n",
    "$$\r\n",
    "\\frac{1}{N} \\sum_{n=1}^N\\sum_{t=1}^T (W + L)_{t}\r\n",
    "$$\r\n",
    "Where W denotes the win and L denotes the loss. W is a positive integer number whilst L is a negative integer.\r\n",
    "\r\n",
    "The next few code cells perform the data processing steps required to produce the visualizations. Asserts are used to test that the transformation has been performed correctly. "
   ],
   "metadata": {}
  },
  {
   "cell_type": "code",
   "execution_count": 26,
   "source": [
    "def get_cumulative_reward(win_df, loss_df):\r\n",
    "    \"\"\"\r\n",
    "    Retrives the cumulative reward dataframe for each subject of a study.\r\n",
    "    Also, sets a globals 'rewards' variable which\r\n",
    "        holds the reward at each trial for every subject of a study.\r\n",
    "    :param win_df: contain the wins received by participants\r\n",
    "    :param loss_df: contain the loses received by participants\r\n",
    "    \"\"\"\r\n",
    "    trial_num = len(win_df.columns.values) - 2\r\n",
    "    # Set a 'reward global variable', used later on in PCA \r\n",
    "    globals()[f'rewards_{trial_num}'] = win_df.iloc[:,2:].add(loss_df.iloc[:,2:])\r\n",
    "    cum_reward = globals()[f'rewards_{trial_num}'].cumsum(axis=1)\r\n",
    "    cum_reward = pd.merge(\r\n",
    "        win_df.iloc[:,:2], cum_reward, left_index=True, right_index=True\r\n",
    "        )\r\n",
    "    globals()[f'rewards_{trial_num}'].insert(0,'health status', win_df.iloc[:,1])\r\n",
    "    globals()[f'rewards_{trial_num}'].insert(0, 'study', win_df.iloc[:,0])\r\n",
    "\r\n",
    "    return cum_reward\r\n"
   ],
   "outputs": [],
   "metadata": {}
  },
  {
   "cell_type": "code",
   "execution_count": 27,
   "source": [
    "\r\n",
    "cum_reward_95 = get_cumulative_reward(win_95,loss_95)\r\n",
    "assert cum_reward_95.iloc[0,10] == -350\r\n",
    "assert cum_reward_95.iloc[11, 8] ==  500\r\n",
    "assert cum_reward_95.iloc[8,69] == -450\r\n",
    "\r\n",
    "cum_reward_100 = get_cumulative_reward(total_win_100, total_loss_100)\r\n",
    "assert cum_reward_100.iloc[3, 11] == -1000\r\n",
    "assert cum_reward_100.iloc[499, 100] == 25\r\n",
    "assert cum_reward_100.iloc[2, 94] == -1050 \r\n",
    "\r\n",
    "cum_reward_150 = get_cumulative_reward(win_150, loss_150)\r\n",
    "assert cum_reward_150.iloc[4,144] == 1800\r\n",
    "assert cum_reward_150.iloc[93, 10] == 300"
   ],
   "outputs": [],
   "metadata": {}
  },
  {
   "cell_type": "code",
   "execution_count": 28,
   "source": [
    "def visualize_cumulative_reward_by_study(cum_reward_df):\r\n",
    "    \"\"\"\r\n",
    "    visualize the cumulative reward dataframe grouped by  study.\r\n",
    "    :param cum_reward_df: contain the cumulative rewards by participants in 'X' trial studies\r\n",
    "        where 'X' can be 95,100 and 150\r\n",
    "    \"\"\"\r\n",
    "    sum_cum_reward_df = cum_reward_df.groupby(['study']).sum()\r\n",
    "    trial_num = len(sum_cum_reward_df.columns.values)\r\n",
    "    sum_cum_reward_df = sum_cum_reward_df.div(trial_num)\r\n",
    "\r\n",
    "\r\n",
    "    sns.set(style='darkgrid')\r\n",
    "    for study in sum_cum_reward_df.index:\r\n",
    "        end_value, colour = sum_cum_reward_df[f'trial_{trial_num}'].loc[study], 'red'\r\n",
    "        if end_value > 0:\r\n",
    "            colour ='green'\r\n",
    "        fig = sns.lineplot(\r\n",
    "            x=list(range(1, trial_num + 1)), y =sum_cum_reward_df.loc[study].values.tolist(), color=colour\r\n",
    "                )\r\n",
    "        plt.xlabel(\"Trials\")\r\n",
    "        plt.ylabel(\"Culmatative reward ($)\")\r\n",
    "        plt.title(f\"{''.join(study)} study ({trial_num} trials, {len(cum_reward_df[cum_reward_df['study'] == study])} participants)\")\r\n",
    "        plt.show(fig)"
   ],
   "outputs": [],
   "metadata": {}
  },
  {
   "cell_type": "markdown",
   "source": [
    "Visualizations of the **average sum** of the **cumulative** rewards, grouped by a 'many labs' study. Note, a green line indicates a positive end value where as a red line indicates a negative end value i.e. take home pay. Initially,we concluded that some data transformations incorrectly as our pre-conceptions were not met but ad-hoc analysis revealed no errors. However as {cite:t}`bull2015decision` notes \"researchers have observed high inter-study and inter-individual variability in IGT performance in healthy participants.\". According to {cite:p}`bechara1994insensitivity`.  healthy subjects should gradually learn to choose an approximately equal number of cards from decks C and D and avoid cards from decks A and B, assuming that they focus on the long-term monetary outcome i.e. the largest take home award . Although `Steingroever2011` and `Wetzel` follow this trend, the other studies do not. This confirms our hypothesis that healthy subjects do not exclusively focus on the long-term outcome. Instead, subjects predominantly consider a combination of gain and loss frequency choices and may be influenced by psychological differences such as impulsivity or  propensity to gambling."
   ],
   "metadata": {}
  },
  {
   "cell_type": "code",
   "execution_count": 29,
   "source": [
    "visualize_cumulative_reward_by_study(cum_reward_95)"
   ],
   "outputs": [
    {
     "output_type": "display_data",
     "data": {
      "image/png": "[encoded data removed]",
      "text/plain": [
       "<Figure size 432x288 with 1 Axes>"
      ]
     },
     "metadata": {}
    }
   ],
   "metadata": {}
  },
  {
   "cell_type": "code",
   "execution_count": 30,
   "source": [
    "visualize_cumulative_reward_by_study(cum_reward_100[cum_reward_100['study'] != 'Ahn'])"
   ],
   "outputs": [
    {
     "output_type": "display_data",
     "data": {
      "image/png": "[encoded data removed]",
      "text/plain": [
       "<Figure size 432x288 with 1 Axes>"
      ]
     },
     "metadata": {}
    },
    {
     "output_type": "display_data",
     "data": {
      "image/png": "[encoded data removed]",
      "text/plain": [
       "<Figure size 432x288 with 1 Axes>"
      ]
     },
     "metadata": {}
    },
    {
     "output_type": "display_data",
     "data": {
      "image/png": "[encoded data removed]",
      "text/plain": [
       "<Figure size 432x288 with 1 Axes>"
      ]
     },
     "metadata": {}
    },
    {
     "output_type": "display_data",
     "data": {
      "image/png": "[encoded data removed]",
      "text/plain": [
       "<Figure size 432x288 with 1 Axes>"
      ]
     },
     "metadata": {}
    },
    {
     "output_type": "display_data",
     "data": {
      "image/png": "[encoded data removed]",
      "text/plain": [
       "<Figure size 432x288 with 1 Axes>"
      ]
     },
     "metadata": {}
    },
    {
     "output_type": "display_data",
     "data": {
      "image/png": "[encoded data removed]",
      "text/plain": [
       "<Figure size 432x288 with 1 Axes>"
      ]
     },
     "metadata": {}
    },
    {
     "output_type": "display_data",
     "data": {
      "image/png": "[encoded data removed]",
      "text/plain": [
       "<Figure size 432x288 with 1 Axes>"
      ]
     },
     "metadata": {}
    }
   ],
   "metadata": {}
  },
  {
   "cell_type": "code",
   "execution_count": 31,
   "source": [
    "visualize_cumulative_reward_by_study(cum_reward_150)"
   ],
   "outputs": [
    {
     "output_type": "display_data",
     "data": {
      "image/png": "[encoded data removed]",
      "text/plain": [
       "<Figure size 432x288 with 1 Axes>"
      ]
     },
     "metadata": {}
    },
    {
     "output_type": "display_data",
     "data": {
      "image/png": "[encoded data removed]",
      "text/plain": [
       "<Figure size 432x288 with 1 Axes>"
      ]
     },
     "metadata": {}
    }
   ],
   "metadata": {}
  },
  {
   "cell_type": "markdown",
   "source": [
    "A common held belief is that people who suffer from subsistence issues exhibit decision-making deficits. \r\n",
    "These results seem to confirm this as we observed the second lowest average cumulative reward at the end trial (i.e take home award). However, although both types of substance users exhibit similar behaviour (i.e. an initial surge followed by a decline by choosing the \"bad cards\")\r\n",
    "the average heroin user tends to perform more poorly when compared to an amphetamine user. Different classes of drugs, such as stimulants and opiates might have different degree of impairment on the decision making progress.  For example, pre-cinical trails conduced by {cite:t}`stewart1984role` describe notable differences between stimulants and opiates, which exert fundamentally different behavioral effects, such that stimulants produce arousing and activating effects, whereas opiates produce mixed inhibitory and excitatory effects. Again, this is a small sample size so results have to be interrupted with caution!"
   ],
   "metadata": {}
  },
  {
   "cell_type": "code",
   "execution_count": 32,
   "source": [
    "ahn_cum_reward = cum_reward_100[cum_reward_100['study'] == 'Ahn'].groupby(['health status']).sum()\r\n",
    "ahn_cum_reward = ahn_cum_reward.div(100)\r\n",
    "plt.plot(range(1,101),ahn_cum_reward.loc['heroin'], label='heroin',color='orange')\r\n",
    "plt.plot(range(1,101),ahn_cum_reward.loc['amphetamine'], label='amphetamine',color='yellow')\r\n",
    "plt.legend()\r\n",
    "plt.title('Culmatative reward of unhealthy subjects')\r\n",
    "plt.xlabel('Trials')\r\n",
    "plt.ylabel('Cumulative reward ($)')\r\n",
    "plt.tight_layout()\r\n",
    "plt.show()\r\n"
   ],
   "outputs": [
    {
     "output_type": "display_data",
     "data": {
      "image/png": "[encoded data removed]",
      "text/plain": [
       "<Figure size 432x288 with 1 Axes>"
      ]
     },
     "metadata": {}
    }
   ],
   "metadata": {}
  },
  {
   "cell_type": "markdown",
   "source": [
    "## Data Processing\r\n",
    "\r\n",
    "If we were to include every feature currently available, we would have high dimensional dataset. K-means suffers from the 'curse of dimensionality' as the distance metric (Euclidean distance) suffers in high dimensions.  Ah-hoc analysis using a dimensailty reduction technique known as principal component analysis (discussed later on) on the 100 trial choice dataset still revealed a high number of relevant components, 36 (Kaiser-Guttman test). This motivates us to perform feature engineering and create the following columns:\r\n",
    "- **health_binary:** A binary variable, 1 if the subject is healthy. Otherwise, 0\r\n",
    "- **cum_reward_25:** The cumulative reward (as explained above) at trial 25. We include the cumulative reward at specified trial intervals in attempt to model the behaviour/progress of a subject when performing the task. For example, we would expect an individual that has a propensity for gambling to initially achieve well but would loose money overtime as the decks with higher wins ($100) result in a long-term net loss, while the decks with smaller wins ($50) yield a net gain \r\n",
    "- **cum_reward_50:** The cumulative reward at trial 50. \r\n",
    "- **cum_reward_75:** The cumulative reward at trial 57. \r\n",
    "- **cum_reward_100:** The cumulative reward at trial 100. \r\n",
    "- **A:** Count of the number of times card deck A ('bad deck') was picked.\r\n",
    "- **B:** Count of the number of times card deck B ('bad deck') was picked.\r\n",
    "- **C:** Count of the number of times card deck C ('good deck') was picked.\r\n",
    "- **D:** Count of the number of times card deck D ('good deck') was picked.\r\n",
    "\r\n",
    "The performance of the 'healthy' participants on IGT may have been altered by factors that varied across the included studies (e.g. fatigue due to longer trial length). In addition, the card deck count features would be influenced by trial length and could lead to clustering by study rather than my behaviour. (However, this could have ben rectified by scaling) To mitigate against these factors and allow for more accurate comparison, we restrict our investigation to a subset of the available data (many labs + Ahn et al.). This subset contains 8 investigations, 7 that use the classical 100 trials from the 'many labs' paper and the {cite:t}`ahn2014decision` study. This subset includes 629 participants (age range: 18 to 88). Of those 5 studies that had information on gender, 54% were female. \r\n"
   ],
   "metadata": {}
  },
  {
   "cell_type": "markdown",
   "source": [
    "Engineering the card occurrence columns:"
   ],
   "metadata": {}
  },
  {
   "cell_type": "code",
   "execution_count": 72,
   "source": [
    "card_choice_df = total_choice_100.iloc[:,2:].apply(pd.Series.value_counts, axis=1)\r\n",
    "card_choice_df.columns = ['A','B','C','D']\r\n",
    "card_choice_df.head(5)"
   ],
   "outputs": [
    {
     "output_type": "execute_result",
     "data": {
      "text/html": [
       "<div>\n",
       "<style scoped>\n",
       "    .dataframe tbody tr th:only-of-type {\n",
       "        vertical-align: middle;\n",
       "    }\n",
       "\n",
       "    .dataframe tbody tr th {\n",
       "        vertical-align: top;\n",
       "    }\n",
       "\n",
       "    .dataframe thead th {\n",
       "        text-align: right;\n",
       "    }\n",
       "</style>\n",
       "<table border=\"1\" class=\"dataframe\">\n",
       "  <thead>\n",
       "    <tr style=\"text-align: right;\">\n",
       "      <th></th>\n",
       "      <th>A</th>\n",
       "      <th>B</th>\n",
       "      <th>C</th>\n",
       "      <th>D</th>\n",
       "    </tr>\n",
       "  </thead>\n",
       "  <tbody>\n",
       "    <tr>\n",
       "      <th>0</th>\n",
       "      <td>21</td>\n",
       "      <td>42</td>\n",
       "      <td>15</td>\n",
       "      <td>22</td>\n",
       "    </tr>\n",
       "    <tr>\n",
       "      <th>1</th>\n",
       "      <td>14</td>\n",
       "      <td>35</td>\n",
       "      <td>18</td>\n",
       "      <td>33</td>\n",
       "    </tr>\n",
       "    <tr>\n",
       "      <th>2</th>\n",
       "      <td>21</td>\n",
       "      <td>42</td>\n",
       "      <td>7</td>\n",
       "      <td>30</td>\n",
       "    </tr>\n",
       "    <tr>\n",
       "      <th>3</th>\n",
       "      <td>13</td>\n",
       "      <td>24</td>\n",
       "      <td>28</td>\n",
       "      <td>35</td>\n",
       "    </tr>\n",
       "    <tr>\n",
       "      <th>4</th>\n",
       "      <td>15</td>\n",
       "      <td>31</td>\n",
       "      <td>28</td>\n",
       "      <td>26</td>\n",
       "    </tr>\n",
       "  </tbody>\n",
       "</table>\n",
       "</div>"
      ],
      "text/plain": [
       "    A   B   C   D\n",
       "0  21  42  15  22\n",
       "1  14  35  18  33\n",
       "2  21  42   7  30\n",
       "3  13  24  28  35\n",
       "4  15  31  28  26"
      ]
     },
     "metadata": {},
     "execution_count": 72
    }
   ],
   "metadata": {}
  },
  {
   "cell_type": "markdown",
   "source": [
    "Most popular card decks are B and D. This seems to contradict with the general assumption that healthy participants are only interested in long-term gain."
   ],
   "metadata": {}
  },
  {
   "cell_type": "code",
   "execution_count": 101,
   "source": [
    "for deck in card_choice_df.columns:\r\n",
    "    print(f'Deck {deck}: {card_choice_df[deck].sum()}')"
   ],
   "outputs": [
    {
     "output_type": "stream",
     "name": "stdout",
     "text": [
      "Deck A: 10103\n",
      "Deck B: 19372\n",
      "Deck C: 14762\n",
      "Deck D: 18663\n"
     ]
    }
   ],
   "metadata": {}
  },
  {
   "cell_type": "markdown",
   "source": [
    "Engineering the cumulative reward columns:"
   ],
   "metadata": {}
  },
  {
   "cell_type": "code",
   "execution_count": 78,
   "source": [
    "processed_100 = cum_reward_100[['study','health status', 'trial_25','trial_50','trial_75','trial_100']]\r\n",
    "processed_100"
   ],
   "outputs": [
    {
     "output_type": "execute_result",
     "data": {
      "text/html": [
       "<div>\n",
       "<style scoped>\n",
       "    .dataframe tbody tr th:only-of-type {\n",
       "        vertical-align: middle;\n",
       "    }\n",
       "\n",
       "    .dataframe tbody tr th {\n",
       "        vertical-align: top;\n",
       "    }\n",
       "\n",
       "    .dataframe thead th {\n",
       "        text-align: right;\n",
       "    }\n",
       "</style>\n",
       "<table border=\"1\" class=\"dataframe\">\n",
       "  <thead>\n",
       "    <tr style=\"text-align: right;\">\n",
       "      <th></th>\n",
       "      <th>study</th>\n",
       "      <th>health status</th>\n",
       "      <th>trial_25</th>\n",
       "      <th>trial_50</th>\n",
       "      <th>trial_75</th>\n",
       "      <th>trial_100</th>\n",
       "    </tr>\n",
       "  </thead>\n",
       "  <tbody>\n",
       "    <tr>\n",
       "      <th>0</th>\n",
       "      <td>Horstmann</td>\n",
       "      <td>healthy</td>\n",
       "      <td>-250</td>\n",
       "      <td>-550</td>\n",
       "      <td>-800</td>\n",
       "      <td>-1800</td>\n",
       "    </tr>\n",
       "    <tr>\n",
       "      <th>1</th>\n",
       "      <td>Horstmann</td>\n",
       "      <td>healthy</td>\n",
       "      <td>150</td>\n",
       "      <td>-400</td>\n",
       "      <td>500</td>\n",
       "      <td>-800</td>\n",
       "    </tr>\n",
       "    <tr>\n",
       "      <th>2</th>\n",
       "      <td>Horstmann</td>\n",
       "      <td>healthy</td>\n",
       "      <td>-300</td>\n",
       "      <td>-500</td>\n",
       "      <td>-350</td>\n",
       "      <td>-450</td>\n",
       "    </tr>\n",
       "    <tr>\n",
       "      <th>3</th>\n",
       "      <td>Horstmann</td>\n",
       "      <td>healthy</td>\n",
       "      <td>-450</td>\n",
       "      <td>-500</td>\n",
       "      <td>500</td>\n",
       "      <td>1200</td>\n",
       "    </tr>\n",
       "    <tr>\n",
       "      <th>4</th>\n",
       "      <td>Horstmann</td>\n",
       "      <td>healthy</td>\n",
       "      <td>-600</td>\n",
       "      <td>-700</td>\n",
       "      <td>150</td>\n",
       "      <td>-1300</td>\n",
       "    </tr>\n",
       "    <tr>\n",
       "      <th>...</th>\n",
       "      <td>...</td>\n",
       "      <td>...</td>\n",
       "      <td>...</td>\n",
       "      <td>...</td>\n",
       "      <td>...</td>\n",
       "      <td>...</td>\n",
       "    </tr>\n",
       "    <tr>\n",
       "      <th>624</th>\n",
       "      <td>Ahn</td>\n",
       "      <td>amphetamine</td>\n",
       "      <td>1250</td>\n",
       "      <td>190</td>\n",
       "      <td>860</td>\n",
       "      <td>200</td>\n",
       "    </tr>\n",
       "    <tr>\n",
       "      <th>625</th>\n",
       "      <td>Ahn</td>\n",
       "      <td>amphetamine</td>\n",
       "      <td>115</td>\n",
       "      <td>-690</td>\n",
       "      <td>-1340</td>\n",
       "      <td>-1815</td>\n",
       "    </tr>\n",
       "    <tr>\n",
       "      <th>626</th>\n",
       "      <td>Ahn</td>\n",
       "      <td>amphetamine</td>\n",
       "      <td>300</td>\n",
       "      <td>-505</td>\n",
       "      <td>-2075</td>\n",
       "      <td>-925</td>\n",
       "    </tr>\n",
       "    <tr>\n",
       "      <th>627</th>\n",
       "      <td>Ahn</td>\n",
       "      <td>amphetamine</td>\n",
       "      <td>535</td>\n",
       "      <td>-200</td>\n",
       "      <td>-795</td>\n",
       "      <td>-1785</td>\n",
       "    </tr>\n",
       "    <tr>\n",
       "      <th>628</th>\n",
       "      <td>Ahn</td>\n",
       "      <td>amphetamine</td>\n",
       "      <td>1335</td>\n",
       "      <td>-925</td>\n",
       "      <td>-1990</td>\n",
       "      <td>-2390</td>\n",
       "    </tr>\n",
       "  </tbody>\n",
       "</table>\n",
       "<p>629 rows × 6 columns</p>\n",
       "</div>"
      ],
      "text/plain": [
       "         study health status  trial_25  trial_50  trial_75  trial_100\n",
       "0    Horstmann       healthy      -250      -550      -800      -1800\n",
       "1    Horstmann       healthy       150      -400       500       -800\n",
       "2    Horstmann       healthy      -300      -500      -350       -450\n",
       "3    Horstmann       healthy      -450      -500       500       1200\n",
       "4    Horstmann       healthy      -600      -700       150      -1300\n",
       "..         ...           ...       ...       ...       ...        ...\n",
       "624        Ahn   amphetamine      1250       190       860        200\n",
       "625        Ahn   amphetamine       115      -690     -1340      -1815\n",
       "626        Ahn   amphetamine       300      -505     -2075       -925\n",
       "627        Ahn   amphetamine       535      -200      -795      -1785\n",
       "628        Ahn   amphetamine      1335      -925     -1990      -2390\n",
       "\n",
       "[629 rows x 6 columns]"
      ]
     },
     "metadata": {},
     "execution_count": 78
    }
   ],
   "metadata": {}
  },
  {
   "cell_type": "markdown",
   "source": [
    "Engineering the healthy binary column:"
   ],
   "metadata": {}
  },
  {
   "cell_type": "code",
   "execution_count": 79,
   "source": [
    "processed_100['health binary'] = processed_100['health status'].apply(lambda x:  1 if x =='healthy' else 0)\r\n",
    "\r\n",
    "assert processed_100[processed_100['health binary'] == 0].shape[0] == 78\r\n",
    "\r\n"
   ],
   "outputs": [],
   "metadata": {}
  },
  {
   "cell_type": "code",
   "execution_count": 80,
   "source": [
    "processed_100 = pd.merge(\r\n",
    "        processed_100, card_choice_df, left_index=True, right_index=True\r\n",
    "        )\r\n",
    "processed_100.head(5)\r\n"
   ],
   "outputs": [
    {
     "output_type": "execute_result",
     "data": {
      "text/html": [
       "<div>\n",
       "<style scoped>\n",
       "    .dataframe tbody tr th:only-of-type {\n",
       "        vertical-align: middle;\n",
       "    }\n",
       "\n",
       "    .dataframe tbody tr th {\n",
       "        vertical-align: top;\n",
       "    }\n",
       "\n",
       "    .dataframe thead th {\n",
       "        text-align: right;\n",
       "    }\n",
       "</style>\n",
       "<table border=\"1\" class=\"dataframe\">\n",
       "  <thead>\n",
       "    <tr style=\"text-align: right;\">\n",
       "      <th></th>\n",
       "      <th>study</th>\n",
       "      <th>health status</th>\n",
       "      <th>trial_25</th>\n",
       "      <th>trial_50</th>\n",
       "      <th>trial_75</th>\n",
       "      <th>trial_100</th>\n",
       "      <th>health binary</th>\n",
       "      <th>A</th>\n",
       "      <th>B</th>\n",
       "      <th>C</th>\n",
       "      <th>D</th>\n",
       "    </tr>\n",
       "  </thead>\n",
       "  <tbody>\n",
       "    <tr>\n",
       "      <th>0</th>\n",
       "      <td>Horstmann</td>\n",
       "      <td>healthy</td>\n",
       "      <td>-250</td>\n",
       "      <td>-550</td>\n",
       "      <td>-800</td>\n",
       "      <td>-1800</td>\n",
       "      <td>1</td>\n",
       "      <td>21</td>\n",
       "      <td>42</td>\n",
       "      <td>15</td>\n",
       "      <td>22</td>\n",
       "    </tr>\n",
       "    <tr>\n",
       "      <th>1</th>\n",
       "      <td>Horstmann</td>\n",
       "      <td>healthy</td>\n",
       "      <td>150</td>\n",
       "      <td>-400</td>\n",
       "      <td>500</td>\n",
       "      <td>-800</td>\n",
       "      <td>1</td>\n",
       "      <td>14</td>\n",
       "      <td>35</td>\n",
       "      <td>18</td>\n",
       "      <td>33</td>\n",
       "    </tr>\n",
       "    <tr>\n",
       "      <th>2</th>\n",
       "      <td>Horstmann</td>\n",
       "      <td>healthy</td>\n",
       "      <td>-300</td>\n",
       "      <td>-500</td>\n",
       "      <td>-350</td>\n",
       "      <td>-450</td>\n",
       "      <td>1</td>\n",
       "      <td>21</td>\n",
       "      <td>42</td>\n",
       "      <td>7</td>\n",
       "      <td>30</td>\n",
       "    </tr>\n",
       "    <tr>\n",
       "      <th>3</th>\n",
       "      <td>Horstmann</td>\n",
       "      <td>healthy</td>\n",
       "      <td>-450</td>\n",
       "      <td>-500</td>\n",
       "      <td>500</td>\n",
       "      <td>1200</td>\n",
       "      <td>1</td>\n",
       "      <td>13</td>\n",
       "      <td>24</td>\n",
       "      <td>28</td>\n",
       "      <td>35</td>\n",
       "    </tr>\n",
       "    <tr>\n",
       "      <th>4</th>\n",
       "      <td>Horstmann</td>\n",
       "      <td>healthy</td>\n",
       "      <td>-600</td>\n",
       "      <td>-700</td>\n",
       "      <td>150</td>\n",
       "      <td>-1300</td>\n",
       "      <td>1</td>\n",
       "      <td>15</td>\n",
       "      <td>31</td>\n",
       "      <td>28</td>\n",
       "      <td>26</td>\n",
       "    </tr>\n",
       "    <tr>\n",
       "      <th>...</th>\n",
       "      <td>...</td>\n",
       "      <td>...</td>\n",
       "      <td>...</td>\n",
       "      <td>...</td>\n",
       "      <td>...</td>\n",
       "      <td>...</td>\n",
       "      <td>...</td>\n",
       "      <td>...</td>\n",
       "      <td>...</td>\n",
       "      <td>...</td>\n",
       "      <td>...</td>\n",
       "    </tr>\n",
       "    <tr>\n",
       "      <th>624</th>\n",
       "      <td>Ahn</td>\n",
       "      <td>amphetamine</td>\n",
       "      <td>1250</td>\n",
       "      <td>190</td>\n",
       "      <td>860</td>\n",
       "      <td>200</td>\n",
       "      <td>0</td>\n",
       "      <td>15</td>\n",
       "      <td>14</td>\n",
       "      <td>41</td>\n",
       "      <td>30</td>\n",
       "    </tr>\n",
       "    <tr>\n",
       "      <th>625</th>\n",
       "      <td>Ahn</td>\n",
       "      <td>amphetamine</td>\n",
       "      <td>115</td>\n",
       "      <td>-690</td>\n",
       "      <td>-1340</td>\n",
       "      <td>-1815</td>\n",
       "      <td>0</td>\n",
       "      <td>24</td>\n",
       "      <td>41</td>\n",
       "      <td>20</td>\n",
       "      <td>15</td>\n",
       "    </tr>\n",
       "    <tr>\n",
       "      <th>626</th>\n",
       "      <td>Ahn</td>\n",
       "      <td>amphetamine</td>\n",
       "      <td>300</td>\n",
       "      <td>-505</td>\n",
       "      <td>-2075</td>\n",
       "      <td>-925</td>\n",
       "      <td>0</td>\n",
       "      <td>28</td>\n",
       "      <td>31</td>\n",
       "      <td>22</td>\n",
       "      <td>19</td>\n",
       "    </tr>\n",
       "    <tr>\n",
       "      <th>627</th>\n",
       "      <td>Ahn</td>\n",
       "      <td>amphetamine</td>\n",
       "      <td>535</td>\n",
       "      <td>-200</td>\n",
       "      <td>-795</td>\n",
       "      <td>-1785</td>\n",
       "      <td>0</td>\n",
       "      <td>13</td>\n",
       "      <td>32</td>\n",
       "      <td>10</td>\n",
       "      <td>45</td>\n",
       "    </tr>\n",
       "    <tr>\n",
       "      <th>628</th>\n",
       "      <td>Ahn</td>\n",
       "      <td>amphetamine</td>\n",
       "      <td>1335</td>\n",
       "      <td>-925</td>\n",
       "      <td>-1990</td>\n",
       "      <td>-2390</td>\n",
       "      <td>0</td>\n",
       "      <td>27</td>\n",
       "      <td>38</td>\n",
       "      <td>15</td>\n",
       "      <td>20</td>\n",
       "    </tr>\n",
       "  </tbody>\n",
       "</table>\n",
       "<p>629 rows × 11 columns</p>\n",
       "</div>"
      ],
      "text/plain": [
       "         study health status  trial_25  trial_50  trial_75  trial_100  \\\n",
       "0    Horstmann       healthy      -250      -550      -800      -1800   \n",
       "1    Horstmann       healthy       150      -400       500       -800   \n",
       "2    Horstmann       healthy      -300      -500      -350       -450   \n",
       "3    Horstmann       healthy      -450      -500       500       1200   \n",
       "4    Horstmann       healthy      -600      -700       150      -1300   \n",
       "..         ...           ...       ...       ...       ...        ...   \n",
       "624        Ahn   amphetamine      1250       190       860        200   \n",
       "625        Ahn   amphetamine       115      -690     -1340      -1815   \n",
       "626        Ahn   amphetamine       300      -505     -2075       -925   \n",
       "627        Ahn   amphetamine       535      -200      -795      -1785   \n",
       "628        Ahn   amphetamine      1335      -925     -1990      -2390   \n",
       "\n",
       "     health binary   A   B   C   D  \n",
       "0                1  21  42  15  22  \n",
       "1                1  14  35  18  33  \n",
       "2                1  21  42   7  30  \n",
       "3                1  13  24  28  35  \n",
       "4                1  15  31  28  26  \n",
       "..             ...  ..  ..  ..  ..  \n",
       "624              0  15  14  41  30  \n",
       "625              0  24  41  20  15  \n",
       "626              0  28  31  22  19  \n",
       "627              0  13  32  10  45  \n",
       "628              0  27  38  15  20  \n",
       "\n",
       "[629 rows x 11 columns]"
      ]
     },
     "metadata": {},
     "execution_count": 80
    }
   ],
   "metadata": {}
  },
  {
   "cell_type": "code",
   "execution_count": null,
   "source": [],
   "outputs": [],
   "metadata": {}
  },
  {
   "cell_type": "markdown",
   "source": [
    "## PCA\r\n",
    "\r\n",
    "Although standardization is typically used for features of incomparable units (e.g. height in cm and weight in kg), we will still standardize the choices and rewards due to k-means \"isotropic\" nature. In this case, if we left our variances unequal;  we would inversely putting more weight on features with high variance. In addition, we will perform <b>principal component analysis</b> due to avoid the curse of dimensionality that k-means can suffer from. The function of PCA is to reduce the dimensionality of a data set consisting of many variables correlated with each other, either heavily or lightly, while retaining the variation present in the data set to the maximum extent. \r\n",
    "\r\n",
    "The same is done by transforming the variables (i.e. features) to a new set of variables, which are known as the <b>principal components</b>, ordered such that the retention of variation present decreases as we move down the order of components. \r\n"
   ],
   "metadata": {}
  },
  {
   "cell_type": "markdown",
   "source": [
    "The procedure of PCA involves five steps: <br>\n",
    "1) Standardise the data <br>\n",
    "2) Compute covariance matrix <br>\n",
    "3) Identify the eigenvalues and eigenvectors of the covariance matrix and order them according to the eigenvalues <br>\n",
    "4) Compute a feature vector <br>\n",
    "5) Recast the data <br>\n"
   ],
   "metadata": {}
  },
  {
   "cell_type": "markdown",
   "source": [
    "#### Standardisation"
   ],
   "metadata": {}
  },
  {
   "cell_type": "markdown",
   "source": [
    "We now standardize the data using the following formulae:\n",
    "$$X_i = X_i - \\bar{X}~~~~~~~~~~~~~~~~~~X_i = \\frac{X_i}{\\sigma}$$\n",
    "\n",
    "The standard deviation should equal 1 after standardization"
   ],
   "metadata": {}
  },
  {
   "cell_type": "code",
   "execution_count": 89,
   "source": [
    "labeled_processed_100 = processed_100.loc[:,['study', 'health status']]\r\n",
    "values_to_be_scaled_processed_100 =  processed_100.iloc[:,2:]\r\n",
    "scaled_processed_100  = StandardScaler().fit_transform(values_to_be_scaled_processed_100)\r\n",
    "\r\n",
    "assert np.std(scaled_processed_100) == 1"
   ],
   "outputs": [],
   "metadata": {}
  },
  {
   "cell_type": "markdown",
   "source": [
    "We will use the `PCA` function supplied by the `Scikit-learn` library for dimensionality reduction.  But how do we find the optimal number of components? Which eigenvalues are important?  The scree plot below describes the cumulative explained variance for each component. We reach 80% explained variance at the 58 component mark."
   ],
   "metadata": {}
  },
  {
   "cell_type": "code",
   "execution_count": 90,
   "source": [
    "pca = PCA().fit(scaled_processed_100)\r\n",
    "plt.plot(np.cumsum(pca.explained_variance_ratio_))\r\n",
    "plt.xlabel('number of components')\r\n",
    "plt.ylabel('cumulative explained variance')\r\n",
    "plt.title('Scree plot')\r\n",
    "plt.show()"
   ],
   "outputs": [
    {
     "output_type": "display_data",
     "data": {
      "image/png": "[encoded data removed]",
      "text/plain": [
       "<Figure size 432x288 with 1 Axes>"
      ]
     },
     "metadata": {}
    }
   ],
   "metadata": {}
  },
  {
   "cell_type": "markdown",
   "source": [
    "According to the average-eigenvalue test (Kaiser-Guttman test) we should retain only those eigenvalues that are above the average which is 1.0. <br>\r\n",
    "Jolliffe relaxes this criterium and suggest to retain eigenvalues greater than 0.7. \r\n"
   ],
   "metadata": {}
  },
  {
   "cell_type": "code",
   "execution_count": 91,
   "source": [
    "kasier_criterion = np.where(pca.explained_variance_ > 1)[-1][-1]\r\n",
    "print(\r\n",
    "        f'Kasier criterion optimal component number: {kasier_criterion}, explained variance: {np.cumsum(pca.explained_variance_ratio_)[kasier_criterion]}'\r\n",
    "    )\r\n",
    "jolliffe_criterion = np.where(pca.explained_variance_ > 0.7)[-1][-1]\r\n",
    "print(\r\n",
    "    f'Jolliffe criterion optimal component number: {jolliffe_criterion} , expalined variance: {np.cumsum(pca.explained_variance_ratio_)[jolliffe_criterion]}'\r\n",
    "    )"
   ],
   "outputs": [
    {
     "output_type": "stream",
     "name": "stdout",
     "text": [
      "Kasier criterion optimal component number: 2, explained variance: 0.7168193073625704\n",
      "Jolliffe criterion optimal component number: 3 , expalined variance: 0.8117508248086707\n"
     ]
    }
   ],
   "metadata": {}
  },
  {
   "cell_type": "markdown",
   "source": [
    " For the purpose of this investigation, we decide to go with **both** the Kaiser criterion and Jolaliffe criterion . In addition, 2 principal components (Kasier) account for approx. 71.68% of the explained variance whilst 3 principal components (Jolliffe) account for approx. 81.17% of the explained variance."
   ],
   "metadata": {}
  },
  {
   "cell_type": "markdown",
   "source": [
    "Finally, we fit the `pca` model with the dataframes containing top 2 and 3 components , apply the dimensionality reduction on those respective dataframe and save the resulting dataframes."
   ],
   "metadata": {}
  },
  {
   "cell_type": "code",
   "execution_count": 96,
   "source": [
    "pca_2d = PCA(n_components=2)\r\n",
    "dim_reduced_2d = pca_2d.fit_transform(scaled_processed_100)\r\n",
    "dim_reduced_2d = pd.DataFrame(data=dim_reduced_2d, columns=[f'component_{num}' for num in range(1,3)])\r\n",
    "dim_reduced_2d = pd.merge(\r\n",
    "        labeled_processed_100, dim_reduced_2d, left_index=True, right_index=True\r\n",
    "        )\r\n",
    "dim_reduced_2d.to_csv(\"data/dim_reduced_2d.tsv\", sep=\"\\t\", index=False)\r\n",
    "dim_reduced_2d.head(5)"
   ],
   "outputs": [
    {
     "output_type": "execute_result",
     "data": {
      "text/html": [
       "<div>\n",
       "<style scoped>\n",
       "    .dataframe tbody tr th:only-of-type {\n",
       "        vertical-align: middle;\n",
       "    }\n",
       "\n",
       "    .dataframe tbody tr th {\n",
       "        vertical-align: top;\n",
       "    }\n",
       "\n",
       "    .dataframe thead th {\n",
       "        text-align: right;\n",
       "    }\n",
       "</style>\n",
       "<table border=\"1\" class=\"dataframe\">\n",
       "  <thead>\n",
       "    <tr style=\"text-align: right;\">\n",
       "      <th></th>\n",
       "      <th>study</th>\n",
       "      <th>health status</th>\n",
       "      <th>component_1</th>\n",
       "      <th>component_2</th>\n",
       "    </tr>\n",
       "  </thead>\n",
       "  <tbody>\n",
       "    <tr>\n",
       "      <th>0</th>\n",
       "      <td>Horstmann</td>\n",
       "      <td>healthy</td>\n",
       "      <td>-1.703901</td>\n",
       "      <td>0.529617</td>\n",
       "    </tr>\n",
       "    <tr>\n",
       "      <th>1</th>\n",
       "      <td>Horstmann</td>\n",
       "      <td>healthy</td>\n",
       "      <td>0.169127</td>\n",
       "      <td>0.714179</td>\n",
       "    </tr>\n",
       "    <tr>\n",
       "      <th>2</th>\n",
       "      <td>Horstmann</td>\n",
       "      <td>healthy</td>\n",
       "      <td>-0.913123</td>\n",
       "      <td>1.028506</td>\n",
       "    </tr>\n",
       "    <tr>\n",
       "      <th>3</th>\n",
       "      <td>Horstmann</td>\n",
       "      <td>healthy</td>\n",
       "      <td>1.472582</td>\n",
       "      <td>0.978087</td>\n",
       "    </tr>\n",
       "    <tr>\n",
       "      <th>4</th>\n",
       "      <td>Horstmann</td>\n",
       "      <td>healthy</td>\n",
       "      <td>-0.267429</td>\n",
       "      <td>0.801555</td>\n",
       "    </tr>\n",
       "  </tbody>\n",
       "</table>\n",
       "</div>"
      ],
      "text/plain": [
       "       study health status  component_1  component_2\n",
       "0  Horstmann       healthy    -1.703901     0.529617\n",
       "1  Horstmann       healthy     0.169127     0.714179\n",
       "2  Horstmann       healthy    -0.913123     1.028506\n",
       "3  Horstmann       healthy     1.472582     0.978087\n",
       "4  Horstmann       healthy    -0.267429     0.801555"
      ]
     },
     "metadata": {},
     "execution_count": 96
    }
   ],
   "metadata": {}
  },
  {
   "cell_type": "code",
   "execution_count": 97,
   "source": [
    "pca_3d = PCA(n_components=3)\r\n",
    "dim_reduced_3d = pca_3d.fit_transform(scaled_processed_100)\r\n",
    "dim_reduced_3d = pd.DataFrame(data=dim_reduced_3d, columns=[f'component_{num}' for num in range(1,4)])\r\n",
    "dim_reduced_3d = pd.merge(\r\n",
    "        labeled_processed_100, dim_reduced_3d, left_index=True, right_index=True\r\n",
    "        )\r\n",
    "dim_reduced_3d.to_csv(\"data/dim_reduced_3d.tsv\", sep=\"\\t\", index=False)\r\n",
    "dim_reduced_3d.head(5)"
   ],
   "outputs": [
    {
     "output_type": "execute_result",
     "data": {
      "text/html": [
       "<div>\n",
       "<style scoped>\n",
       "    .dataframe tbody tr th:only-of-type {\n",
       "        vertical-align: middle;\n",
       "    }\n",
       "\n",
       "    .dataframe tbody tr th {\n",
       "        vertical-align: top;\n",
       "    }\n",
       "\n",
       "    .dataframe thead th {\n",
       "        text-align: right;\n",
       "    }\n",
       "</style>\n",
       "<table border=\"1\" class=\"dataframe\">\n",
       "  <thead>\n",
       "    <tr style=\"text-align: right;\">\n",
       "      <th></th>\n",
       "      <th>study</th>\n",
       "      <th>health status</th>\n",
       "      <th>component_1</th>\n",
       "      <th>component_2</th>\n",
       "      <th>component_3</th>\n",
       "    </tr>\n",
       "  </thead>\n",
       "  <tbody>\n",
       "    <tr>\n",
       "      <th>0</th>\n",
       "      <td>Horstmann</td>\n",
       "      <td>healthy</td>\n",
       "      <td>-1.703901</td>\n",
       "      <td>0.529617</td>\n",
       "      <td>0.118642</td>\n",
       "    </tr>\n",
       "    <tr>\n",
       "      <th>1</th>\n",
       "      <td>Horstmann</td>\n",
       "      <td>healthy</td>\n",
       "      <td>0.169127</td>\n",
       "      <td>0.714179</td>\n",
       "      <td>-0.240990</td>\n",
       "    </tr>\n",
       "    <tr>\n",
       "      <th>2</th>\n",
       "      <td>Horstmann</td>\n",
       "      <td>healthy</td>\n",
       "      <td>-0.913123</td>\n",
       "      <td>1.028506</td>\n",
       "      <td>-0.473166</td>\n",
       "    </tr>\n",
       "    <tr>\n",
       "      <th>3</th>\n",
       "      <td>Horstmann</td>\n",
       "      <td>healthy</td>\n",
       "      <td>1.472582</td>\n",
       "      <td>0.978087</td>\n",
       "      <td>0.555986</td>\n",
       "    </tr>\n",
       "    <tr>\n",
       "      <th>4</th>\n",
       "      <td>Horstmann</td>\n",
       "      <td>healthy</td>\n",
       "      <td>-0.267429</td>\n",
       "      <td>0.801555</td>\n",
       "      <td>0.819148</td>\n",
       "    </tr>\n",
       "  </tbody>\n",
       "</table>\n",
       "</div>"
      ],
      "text/plain": [
       "       study health status  component_1  component_2  component_3\n",
       "0  Horstmann       healthy    -1.703901     0.529617     0.118642\n",
       "1  Horstmann       healthy     0.169127     0.714179    -0.240990\n",
       "2  Horstmann       healthy    -0.913123     1.028506    -0.473166\n",
       "3  Horstmann       healthy     1.472582     0.978087     0.555986\n",
       "4  Horstmann       healthy    -0.267429     0.801555     0.819148"
      ]
     },
     "metadata": {},
     "execution_count": 97
    }
   ],
   "metadata": {}
  }
 ],
 "metadata": {
  "celltoolbar": "Tags",
  "interpreter": {
   "hash": "8b50fa937169f37b74d45a07f3eeb6e1c015845828f57e9959dd4a9e933aa70c"
  },
  "kernelspec": {
   "name": "python3",
   "display_name": "Python 3.7.7 64-bit ('py37': conda)"
  },
  "language_info": {
   "codemirror_mode": {
    "name": "ipython",
    "version": 3
   },
   "file_extension": ".py",
   "mimetype": "text/x-python",
   "name": "python",
   "nbconvert_exporter": "python",
   "pygments_lexer": "ipython3",
   "version": "3.7.7"
  },
  "widgets": {
   "application/vnd.jupyter.widget-state+json": {
    "state": {},
    "version_major": 2,
    "version_minor": 0
   }
  }
 },
 "nbformat": 4,
 "nbformat_minor": 4
}